{
 "cells": [
  {
   "cell_type": "code",
   "execution_count": null,
   "metadata": {
    "collapsed": true
   },
   "outputs": [],
   "source": []
  },
  {
   "cell_type": "code",
   "execution_count": 19,
   "outputs": [],
   "source": [
    "import os\n",
    "import struct\n",
    "\n",
    "\n",
    "class Image:\n",
    "    def __init__(self, dir='./'):\n",
    "        self.train_files = {\n",
    "                'images': os.path.join(dir, 'train-images-idx3-ubyte'),\n",
    "                'labels': os.path.join(dir, 'train-labels-idx1-ubyte')\n",
    "                }\n",
    "        self.test_files = {\n",
    "                'images': os.path.join(dir, 't10k-images-idx3-ubyte'),\n",
    "                'labels': os.path.join(dir, 't10k-labels-idx1-ubyte')\n",
    "                }\n",
    "\n",
    "    @property\n",
    "    def train(self):\n",
    "        path = self.train_files\n",
    "        return self._get_dataset(path)\n",
    "\n",
    "    @property\n",
    "    def test(self):\n",
    "        path = self.test_files\n",
    "        return self._get_dataset(path)\n",
    "\n",
    "    def _get_dataset(self, path):\n",
    "        images = self._load_images(path['images'])\n",
    "        labels = self._load_labels(path['labels'])\n",
    "        for image, label in zip(images, labels):\n",
    "            yield image, label\n",
    "\n",
    "    def _load_images(self, fname):\n",
    "        f = open(fname, 'rb')\n",
    "        header = struct.unpack('>4i', f.read(16))\n",
    "        magic, size, width, height = header\n",
    "\n",
    "        if magic != 2051:\n",
    "            raise RuntimeError(\"'%s' is not an MNIST image set.\" % fname)\n",
    "\n",
    "        chunk = width * height\n",
    "        for _ in range(size):\n",
    "            img = struct.unpack('>%dB' % chunk, f.read(chunk))\n",
    "            yield img, width, height\n",
    "\n",
    "        f.close()\n",
    "\n",
    "    def _load_labels(self, fname):\n",
    "        f = open(fname, 'rb')\n",
    "        header = struct.unpack('>2i', f.read(8))\n",
    "        magic, size = header\n",
    "\n",
    "        if magic != 2049:\n",
    "            raise RuntimeError(\"'%s' is not an MNIST label set.\" % fname)\n",
    "\n",
    "        for label in struct.unpack('>%dB' % size, f.read()):\n",
    "            yield label\n",
    "\n",
    "        f.close()\n",
    "\n",
    "\n",
    "def return_data_set(name):\n",
    "\n",
    "        dataset = Image(name)\n",
    "        img_train_list = []\n",
    "        label_train_list = []\n",
    "        for (img, width, height), label in dataset.train:\n",
    "\n",
    "            img_train_list.append(img)\n",
    "            label_train_list.append(label)\n",
    "\n",
    "\n",
    "        img_test_list = []\n",
    "        label_test_list = []\n",
    "        for (img, width, height), label in dataset.test:\n",
    "\n",
    "\n",
    "            img_test_list.append(img)\n",
    "            label_test_list.append(label)\n",
    "\n",
    "        return (img_train_list,label_train_list,img_test_list,label_test_list)"
   ],
   "metadata": {
    "collapsed": false
   }
  },
  {
   "cell_type": "code",
   "execution_count": 20,
   "outputs": [],
   "source": [
    "img_train_list,label_train_list,img_test_list,label_test_list = return_data_set('samples')"
   ],
   "metadata": {
    "collapsed": false
   }
  },
  {
   "cell_type": "code",
   "execution_count": 21,
   "outputs": [],
   "source": [
    "import matplotlib.pyplot as plt\n",
    "import numpy as np\n",
    "\n",
    "images_train = np.array(img_train_list)\n",
    "labels_train = np.array(label_train_list)\n",
    "images_test = np.array(img_test_list)\n",
    "labels_test = np.array(label_test_list)"
   ],
   "metadata": {
    "collapsed": false
   }
  },
  {
   "cell_type": "code",
   "execution_count": 22,
   "outputs": [
    {
     "ename": "ValueError",
     "evalue": "num must be 1 <= num <= 12, not 0",
     "output_type": "error",
     "traceback": [
      "\u001B[0;31m---------------------------------------------------------------------------\u001B[0m",
      "\u001B[0;31mValueError\u001B[0m                                Traceback (most recent call last)",
      "Input \u001B[0;32mIn [22]\u001B[0m, in \u001B[0;36m<cell line: 6>\u001B[0;34m()\u001B[0m\n\u001B[1;32m      9\u001B[0m     \u001B[38;5;28;01mpass\u001B[39;00m\n\u001B[1;32m     10\u001B[0m \u001B[38;5;28;01melse\u001B[39;00m :\n\u001B[0;32m---> 11\u001B[0m     \u001B[43mplt\u001B[49m\u001B[38;5;241;43m.\u001B[39;49m\u001B[43msubplot\u001B[49m\u001B[43m(\u001B[49m\u001B[38;5;241;43m330\u001B[39;49m\u001B[43m \u001B[49m\u001B[38;5;241;43m+\u001B[39;49m\u001B[43m \u001B[49m\u001B[38;5;241;43m1\u001B[39;49m\u001B[43m \u001B[49m\u001B[38;5;241;43m+\u001B[39;49m\u001B[43m \u001B[49m\u001B[43mi\u001B[49m\u001B[43m)\u001B[49m\n\u001B[1;32m     12\u001B[0m     number_see\u001B[38;5;241m.\u001B[39mappend(labels_train[index])\n\u001B[1;32m     13\u001B[0m     one_date \u001B[38;5;241m=\u001B[39m images_train[index]\n",
      "File \u001B[0;32m~/anaconda3/envs/handwritten_digits/lib/python3.10/site-packages/matplotlib/pyplot.py:1289\u001B[0m, in \u001B[0;36msubplot\u001B[0;34m(*args, **kwargs)\u001B[0m\n\u001B[1;32m   1286\u001B[0m fig \u001B[38;5;241m=\u001B[39m gcf()\n\u001B[1;32m   1288\u001B[0m \u001B[38;5;66;03m# First, search for an existing subplot with a matching spec.\u001B[39;00m\n\u001B[0;32m-> 1289\u001B[0m key \u001B[38;5;241m=\u001B[39m \u001B[43mSubplotSpec\u001B[49m\u001B[38;5;241;43m.\u001B[39;49m\u001B[43m_from_subplot_args\u001B[49m\u001B[43m(\u001B[49m\u001B[43mfig\u001B[49m\u001B[43m,\u001B[49m\u001B[43m \u001B[49m\u001B[43margs\u001B[49m\u001B[43m)\u001B[49m\n\u001B[1;32m   1291\u001B[0m \u001B[38;5;28;01mfor\u001B[39;00m ax \u001B[38;5;129;01min\u001B[39;00m fig\u001B[38;5;241m.\u001B[39maxes:\n\u001B[1;32m   1292\u001B[0m     \u001B[38;5;66;03m# if we found an axes at the position sort out if we can re-use it\u001B[39;00m\n\u001B[1;32m   1293\u001B[0m     \u001B[38;5;28;01mif\u001B[39;00m \u001B[38;5;28mhasattr\u001B[39m(ax, \u001B[38;5;124m'\u001B[39m\u001B[38;5;124mget_subplotspec\u001B[39m\u001B[38;5;124m'\u001B[39m) \u001B[38;5;129;01mand\u001B[39;00m ax\u001B[38;5;241m.\u001B[39mget_subplotspec() \u001B[38;5;241m==\u001B[39m key:\n\u001B[1;32m   1294\u001B[0m         \u001B[38;5;66;03m# if the user passed no kwargs, re-use\u001B[39;00m\n",
      "File \u001B[0;32m~/anaconda3/envs/handwritten_digits/lib/python3.10/site-packages/matplotlib/gridspec.py:608\u001B[0m, in \u001B[0;36mSubplotSpec._from_subplot_args\u001B[0;34m(figure, args)\u001B[0m\n\u001B[1;32m    606\u001B[0m \u001B[38;5;28;01melse\u001B[39;00m:\n\u001B[1;32m    607\u001B[0m     \u001B[38;5;28;01mif\u001B[39;00m \u001B[38;5;129;01mnot\u001B[39;00m \u001B[38;5;28misinstance\u001B[39m(num, Integral) \u001B[38;5;129;01mor\u001B[39;00m num \u001B[38;5;241m<\u001B[39m \u001B[38;5;241m1\u001B[39m \u001B[38;5;129;01mor\u001B[39;00m num \u001B[38;5;241m>\u001B[39m rows\u001B[38;5;241m*\u001B[39mcols:\n\u001B[0;32m--> 608\u001B[0m         \u001B[38;5;28;01mraise\u001B[39;00m \u001B[38;5;167;01mValueError\u001B[39;00m(\n\u001B[1;32m    609\u001B[0m             \u001B[38;5;124mf\u001B[39m\u001B[38;5;124m\"\u001B[39m\u001B[38;5;124mnum must be 1 <= num <= \u001B[39m\u001B[38;5;132;01m{\u001B[39;00mrows\u001B[38;5;241m*\u001B[39mcols\u001B[38;5;132;01m}\u001B[39;00m\u001B[38;5;124m, not \u001B[39m\u001B[38;5;132;01m{\u001B[39;00mnum\u001B[38;5;132;01m!r}\u001B[39;00m\u001B[38;5;124m\"\u001B[39m)\n\u001B[1;32m    610\u001B[0m     i \u001B[38;5;241m=\u001B[39m j \u001B[38;5;241m=\u001B[39m num\n\u001B[1;32m    611\u001B[0m \u001B[38;5;28;01mreturn\u001B[39;00m gs[i\u001B[38;5;241m-\u001B[39m\u001B[38;5;241m1\u001B[39m:j]\n",
      "\u001B[0;31mValueError\u001B[0m: num must be 1 <= num <= 12, not 0"
     ]
    },
    {
     "data": {
      "text/plain": "<Figure size 1000x800 with 9 Axes>",
      "image/png": "[encoded data removed]"
     },
     "metadata": {},
     "output_type": "display_data"
    }
   ],
   "source": [
    "from random import randrange\n",
    "\n",
    "number_see = []\n",
    "plt.figure(figsize=(10,8))\n",
    "i = 0\n",
    "while i < 10:\n",
    "    index = randrange(0, len(images_train))  # choose an index ;-)\n",
    "    if labels_train[index] in number_see:\n",
    "        pass\n",
    "    else :\n",
    "        plt.subplot(330 + 1 + i)\n",
    "        number_see.append(labels_train[index])\n",
    "        one_date = images_train[index]\n",
    "        image = one_date.reshape(28,28)\n",
    "        i+= 1\n",
    "        plt.imshow(image,cmap=plt.get_cmap('gray'))\n",
    "plt.show()\n"
   ],
   "metadata": {
    "collapsed": false
   }
  },
  {
   "cell_type": "code",
   "execution_count": null,
   "outputs": [],
   "source": [],
   "metadata": {
    "collapsed": false
   }
  }
 ],
 "metadata": {
  "kernelspec": {
   "display_name": "Python 3",
   "language": "python",
   "name": "python3"
  },
  "language_info": {
   "codemirror_mode": {
    "name": "ipython",
    "version": 2
   },
   "file_extension": ".py",
   "mimetype": "text/x-python",
   "name": "python",
   "nbconvert_exporter": "python",
   "pygments_lexer": "ipython2",
   "version": "2.7.6"
  }
 },
 "nbformat": 4,
 "nbformat_minor": 0
}
