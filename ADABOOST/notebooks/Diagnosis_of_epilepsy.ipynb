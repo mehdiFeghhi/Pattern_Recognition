{
 "cells": [
  {
   "cell_type": "code",
   "execution_count": 62,
   "metadata": {
    "collapsed": true
   },
   "outputs": [
    {
     "data": {
      "text/plain": "   Number seizure_Simiology_Laterality Laterality_ictal_EEG  \\\n0       1                            L                    L   \n1       2                            L                    L   \n2       3                            U                   UL   \n3       4                            U                   UL   \n4       5                            U                    R   \n\n  ictal_Epileptogenic_zone interictal_irritative_zone MRI_findings  \\\n0                        L                         UL            L   \n1                        L                         UR            L   \n2                        L                          U           UR   \n3                        L                         UL            L   \n4                        R                          R            R   \n\n   Hipp_Vol_LI hippocampal volume  Hipp_FLAIR_LI FLAIR signal intensity  ...  \\\n0    -0.050890                 UL      -0.212758                      L  ...   \n1    -0.084469                  L      -0.326595                      L  ...   \n2    -0.000530                  U       0.266374                      R  ...   \n3    -0.082927                  L      -0.524212                      L  ...   \n4    -0.007018                  U       0.239003                      R  ...   \n\n   FA cingulum   Fx_LI  FA fornix  Hipp_MD_LI  hippMD Logistic prediction  \\\n0           UR  0.0506           R  -0.000163       L                   L   \n1            L  0.0208          UR  -0.000138       L                   L   \n2           UL -0.0379           L  -0.000024      UL                   U   \n3            L -0.0175          UL  -0.000362       L                   L   \n4           UL  0.0551           R   0.000176       R                   R   \n\n  Side_ C4.5 Decision Tree Handedness  gender Overall_Laterality_NO  \n0                        L          L  female                     0  \n1                        L          R  female                     0  \n2                        L          R  female                     0  \n3                        L          R    male                     0  \n4                        R          R    male                     1  \n\n[5 rows x 21 columns]",
      "text/html": "<div>\n<style scoped>\n    .dataframe tbody tr th:only-of-type {\n        vertical-align: middle;\n    }\n\n    .dataframe tbody tr th {\n        vertical-align: top;\n    }\n\n    .dataframe thead th {\n        text-align: right;\n    }\n</style>\n<table border=\"1\" class=\"dataframe\">\n  <thead>\n    <tr style=\"text-align: right;\">\n      <th></th>\n      <th>Number</th>\n      <th>seizure_Simiology_Laterality</th>\n      <th>Laterality_ictal_EEG</th>\n      <th>ictal_Epileptogenic_zone</th>\n      <th>interictal_irritative_zone</th>\n      <th>MRI_findings</th>\n      <th>Hipp_Vol_LI</th>\n      <th>hippocampal volume</th>\n      <th>Hipp_FLAIR_LI</th>\n      <th>FLAIR signal intensity</th>\n      <th>...</th>\n      <th>FA cingulum</th>\n      <th>Fx_LI</th>\n      <th>FA fornix</th>\n      <th>Hipp_MD_LI</th>\n      <th>hippMD</th>\n      <th>Logistic prediction</th>\n      <th>Side_ C4.5 Decision Tree</th>\n      <th>Handedness</th>\n      <th>gender</th>\n      <th>Overall_Laterality_NO</th>\n    </tr>\n  </thead>\n  <tbody>\n    <tr>\n      <th>0</th>\n      <td>1</td>\n      <td>L</td>\n      <td>L</td>\n      <td>L</td>\n      <td>UL</td>\n      <td>L</td>\n      <td>-0.050890</td>\n      <td>UL</td>\n      <td>-0.212758</td>\n      <td>L</td>\n      <td>...</td>\n      <td>UR</td>\n      <td>0.0506</td>\n      <td>R</td>\n      <td>-0.000163</td>\n      <td>L</td>\n      <td>L</td>\n      <td>L</td>\n      <td>L</td>\n      <td>female</td>\n      <td>0</td>\n    </tr>\n    <tr>\n      <th>1</th>\n      <td>2</td>\n      <td>L</td>\n      <td>L</td>\n      <td>L</td>\n      <td>UR</td>\n      <td>L</td>\n      <td>-0.084469</td>\n      <td>L</td>\n      <td>-0.326595</td>\n      <td>L</td>\n      <td>...</td>\n      <td>L</td>\n      <td>0.0208</td>\n      <td>UR</td>\n      <td>-0.000138</td>\n      <td>L</td>\n      <td>L</td>\n      <td>L</td>\n      <td>R</td>\n      <td>female</td>\n      <td>0</td>\n    </tr>\n    <tr>\n      <th>2</th>\n      <td>3</td>\n      <td>U</td>\n      <td>UL</td>\n      <td>L</td>\n      <td>U</td>\n      <td>UR</td>\n      <td>-0.000530</td>\n      <td>U</td>\n      <td>0.266374</td>\n      <td>R</td>\n      <td>...</td>\n      <td>UL</td>\n      <td>-0.0379</td>\n      <td>L</td>\n      <td>-0.000024</td>\n      <td>UL</td>\n      <td>U</td>\n      <td>L</td>\n      <td>R</td>\n      <td>female</td>\n      <td>0</td>\n    </tr>\n    <tr>\n      <th>3</th>\n      <td>4</td>\n      <td>U</td>\n      <td>UL</td>\n      <td>L</td>\n      <td>UL</td>\n      <td>L</td>\n      <td>-0.082927</td>\n      <td>L</td>\n      <td>-0.524212</td>\n      <td>L</td>\n      <td>...</td>\n      <td>L</td>\n      <td>-0.0175</td>\n      <td>UL</td>\n      <td>-0.000362</td>\n      <td>L</td>\n      <td>L</td>\n      <td>L</td>\n      <td>R</td>\n      <td>male</td>\n      <td>0</td>\n    </tr>\n    <tr>\n      <th>4</th>\n      <td>5</td>\n      <td>U</td>\n      <td>R</td>\n      <td>R</td>\n      <td>R</td>\n      <td>R</td>\n      <td>-0.007018</td>\n      <td>U</td>\n      <td>0.239003</td>\n      <td>R</td>\n      <td>...</td>\n      <td>UL</td>\n      <td>0.0551</td>\n      <td>R</td>\n      <td>0.000176</td>\n      <td>R</td>\n      <td>R</td>\n      <td>R</td>\n      <td>R</td>\n      <td>male</td>\n      <td>1</td>\n    </tr>\n  </tbody>\n</table>\n<p>5 rows × 21 columns</p>\n</div>"
     },
     "execution_count": 62,
     "metadata": {},
     "output_type": "execute_result"
    }
   ],
   "source": [
    "import pandas as pd\n",
    "from numpy import mean\n",
    "\n",
    "# read from data set\n",
    "df =  pd.read_csv('Laterality.csv')\n",
    "df.head()"
   ]
  },
  {
   "cell_type": "code",
   "execution_count": 63,
   "outputs": [
    {
     "data": {
      "text/plain": "          Number  Hipp_Vol_LI  Hipp_FLAIR_LI      Cg_LI      Fx_LI  \\\ncount  35.000000    35.000000      35.000000  35.000000  35.000000   \nmean   17.742857    -0.016640      -0.097719  -0.032931   0.013771   \nstd    10.062577     0.061620       0.267247   0.046677   0.033438   \nmin     1.000000    -0.129227      -0.558875  -0.140300  -0.046900   \n25%     9.500000    -0.063088      -0.325745  -0.060300  -0.013550   \n50%    18.000000    -0.017164      -0.073292  -0.031900   0.020600   \n75%    25.500000     0.007082       0.079581  -0.001750   0.042000   \nmax    36.000000     0.106508       0.499853   0.080900   0.071600   \n\n       Hipp_MD_LI  Overall_Laterality_NO  \ncount   35.000000              35.000000  \nmean    -0.000054               0.371429  \nstd      0.000189               0.490241  \nmin     -0.000765               0.000000  \n25%     -0.000141               0.000000  \n50%     -0.000024               0.000000  \n75%      0.000042               1.000000  \nmax      0.000284               1.000000  ",
      "text/html": "<div>\n<style scoped>\n    .dataframe tbody tr th:only-of-type {\n        vertical-align: middle;\n    }\n\n    .dataframe tbody tr th {\n        vertical-align: top;\n    }\n\n    .dataframe thead th {\n        text-align: right;\n    }\n</style>\n<table border=\"1\" class=\"dataframe\">\n  <thead>\n    <tr style=\"text-align: right;\">\n      <th></th>\n      <th>Number</th>\n      <th>Hipp_Vol_LI</th>\n      <th>Hipp_FLAIR_LI</th>\n      <th>Cg_LI</th>\n      <th>Fx_LI</th>\n      <th>Hipp_MD_LI</th>\n      <th>Overall_Laterality_NO</th>\n    </tr>\n  </thead>\n  <tbody>\n    <tr>\n      <th>count</th>\n      <td>35.000000</td>\n      <td>35.000000</td>\n      <td>35.000000</td>\n      <td>35.000000</td>\n      <td>35.000000</td>\n      <td>35.000000</td>\n      <td>35.000000</td>\n    </tr>\n    <tr>\n      <th>mean</th>\n      <td>17.742857</td>\n      <td>-0.016640</td>\n      <td>-0.097719</td>\n      <td>-0.032931</td>\n      <td>0.013771</td>\n      <td>-0.000054</td>\n      <td>0.371429</td>\n    </tr>\n    <tr>\n      <th>std</th>\n      <td>10.062577</td>\n      <td>0.061620</td>\n      <td>0.267247</td>\n      <td>0.046677</td>\n      <td>0.033438</td>\n      <td>0.000189</td>\n      <td>0.490241</td>\n    </tr>\n    <tr>\n      <th>min</th>\n      <td>1.000000</td>\n      <td>-0.129227</td>\n      <td>-0.558875</td>\n      <td>-0.140300</td>\n      <td>-0.046900</td>\n      <td>-0.000765</td>\n      <td>0.000000</td>\n    </tr>\n    <tr>\n      <th>25%</th>\n      <td>9.500000</td>\n      <td>-0.063088</td>\n      <td>-0.325745</td>\n      <td>-0.060300</td>\n      <td>-0.013550</td>\n      <td>-0.000141</td>\n      <td>0.000000</td>\n    </tr>\n    <tr>\n      <th>50%</th>\n      <td>18.000000</td>\n      <td>-0.017164</td>\n      <td>-0.073292</td>\n      <td>-0.031900</td>\n      <td>0.020600</td>\n      <td>-0.000024</td>\n      <td>0.000000</td>\n    </tr>\n    <tr>\n      <th>75%</th>\n      <td>25.500000</td>\n      <td>0.007082</td>\n      <td>0.079581</td>\n      <td>-0.001750</td>\n      <td>0.042000</td>\n      <td>0.000042</td>\n      <td>1.000000</td>\n    </tr>\n    <tr>\n      <th>max</th>\n      <td>36.000000</td>\n      <td>0.106508</td>\n      <td>0.499853</td>\n      <td>0.080900</td>\n      <td>0.071600</td>\n      <td>0.000284</td>\n      <td>1.000000</td>\n    </tr>\n  </tbody>\n</table>\n</div>"
     },
     "execution_count": 63,
     "metadata": {},
     "output_type": "execute_result"
    }
   ],
   "source": [
    "df.describe()"
   ],
   "metadata": {
    "collapsed": false
   }
  },
  {
   "cell_type": "code",
   "execution_count": 64,
   "outputs": [
    {
     "name": "stdout",
     "output_type": "stream",
     "text": [
      "Index(['Number', 'seizure_Simiology_Laterality', 'Laterality_ictal_EEG',\n",
      "       'ictal_Epileptogenic_zone', 'interictal_irritative_zone',\n",
      "       'MRI_findings', 'Hipp_Vol_LI', 'hippocampal volume', 'Hipp_FLAIR_LI',\n",
      "       'FLAIR signal intensity', 'Cg_LI', 'FA cingulum', 'Fx_LI', 'FA fornix ',\n",
      "       'Hipp_MD_LI', 'hippMD', 'Logistic prediction',\n",
      "       'Side_ C4.5 Decision Tree', 'Handedness', 'gender',\n",
      "       'Overall_Laterality_NO'],\n",
      "      dtype='object')\n"
     ]
    }
   ],
   "source": [
    "print(df.columns)\n",
    "#sprate label from data\n",
    "label = df['Overall_Laterality_NO']\n",
    "del df['Overall_Laterality_NO']"
   ],
   "metadata": {
    "collapsed": false
   }
  },
  {
   "cell_type": "code",
   "execution_count": 65,
   "outputs": [
    {
     "data": {
      "text/plain": "   Number  seizure_Simiology_Laterality  Laterality_ictal_EEG  \\\n0       1                             2                     2   \n1       2                             2                     2   \n2       3                             0                     1   \n3       4                             0                     1   \n4       5                             0                     2   \n\n   ictal_Epileptogenic_zone  interictal_irritative_zone  MRI_findings  \\\n0                         2                           1             2   \n1                         2                          -1             2   \n2                         2                           0            -1   \n3                         2                           1             2   \n4                         2                           2             2   \n\n   Hipp_Vol_LI  hippocampal volume  Hipp_FLAIR_LI  FLAIR signal intensity  \\\n0    -0.050890                   1      -0.212758                       2   \n1    -0.084469                   2      -0.326595                       2   \n2    -0.000530                   0       0.266374                       2   \n3    -0.082927                   2      -0.524212                       2   \n4    -0.007018                   0       0.239003                       2   \n\n    Cg_LI  FA cingulum   Fx_LI  FA fornix   Hipp_MD_LI  hippMD  \\\n0  0.0296           -1  0.0506           2   -0.000163       2   \n1 -0.1032            2  0.0208          -1   -0.000138       2   \n2 -0.0255            1 -0.0379           2   -0.000024       1   \n3 -0.0506            2 -0.0175           1   -0.000362       2   \n4 -0.0165            1  0.0551           2    0.000176       2   \n\n   Logistic prediction  Side_ C4.5 Decision Tree  Handedness  gender  \n0                    2                         2           2      -1  \n1                    2                         2           2      -1  \n2                    0                         2           2      -1  \n3                    2                         2           2       1  \n4                    2                         2           2       1  ",
      "text/html": "<div>\n<style scoped>\n    .dataframe tbody tr th:only-of-type {\n        vertical-align: middle;\n    }\n\n    .dataframe tbody tr th {\n        vertical-align: top;\n    }\n\n    .dataframe thead th {\n        text-align: right;\n    }\n</style>\n<table border=\"1\" class=\"dataframe\">\n  <thead>\n    <tr style=\"text-align: right;\">\n      <th></th>\n      <th>Number</th>\n      <th>seizure_Simiology_Laterality</th>\n      <th>Laterality_ictal_EEG</th>\n      <th>ictal_Epileptogenic_zone</th>\n      <th>interictal_irritative_zone</th>\n      <th>MRI_findings</th>\n      <th>Hipp_Vol_LI</th>\n      <th>hippocampal volume</th>\n      <th>Hipp_FLAIR_LI</th>\n      <th>FLAIR signal intensity</th>\n      <th>Cg_LI</th>\n      <th>FA cingulum</th>\n      <th>Fx_LI</th>\n      <th>FA fornix</th>\n      <th>Hipp_MD_LI</th>\n      <th>hippMD</th>\n      <th>Logistic prediction</th>\n      <th>Side_ C4.5 Decision Tree</th>\n      <th>Handedness</th>\n      <th>gender</th>\n    </tr>\n  </thead>\n  <tbody>\n    <tr>\n      <th>0</th>\n      <td>1</td>\n      <td>2</td>\n      <td>2</td>\n      <td>2</td>\n      <td>1</td>\n      <td>2</td>\n      <td>-0.050890</td>\n      <td>1</td>\n      <td>-0.212758</td>\n      <td>2</td>\n      <td>0.0296</td>\n      <td>-1</td>\n      <td>0.0506</td>\n      <td>2</td>\n      <td>-0.000163</td>\n      <td>2</td>\n      <td>2</td>\n      <td>2</td>\n      <td>2</td>\n      <td>-1</td>\n    </tr>\n    <tr>\n      <th>1</th>\n      <td>2</td>\n      <td>2</td>\n      <td>2</td>\n      <td>2</td>\n      <td>-1</td>\n      <td>2</td>\n      <td>-0.084469</td>\n      <td>2</td>\n      <td>-0.326595</td>\n      <td>2</td>\n      <td>-0.1032</td>\n      <td>2</td>\n      <td>0.0208</td>\n      <td>-1</td>\n      <td>-0.000138</td>\n      <td>2</td>\n      <td>2</td>\n      <td>2</td>\n      <td>2</td>\n      <td>-1</td>\n    </tr>\n    <tr>\n      <th>2</th>\n      <td>3</td>\n      <td>0</td>\n      <td>1</td>\n      <td>2</td>\n      <td>0</td>\n      <td>-1</td>\n      <td>-0.000530</td>\n      <td>0</td>\n      <td>0.266374</td>\n      <td>2</td>\n      <td>-0.0255</td>\n      <td>1</td>\n      <td>-0.0379</td>\n      <td>2</td>\n      <td>-0.000024</td>\n      <td>1</td>\n      <td>0</td>\n      <td>2</td>\n      <td>2</td>\n      <td>-1</td>\n    </tr>\n    <tr>\n      <th>3</th>\n      <td>4</td>\n      <td>0</td>\n      <td>1</td>\n      <td>2</td>\n      <td>1</td>\n      <td>2</td>\n      <td>-0.082927</td>\n      <td>2</td>\n      <td>-0.524212</td>\n      <td>2</td>\n      <td>-0.0506</td>\n      <td>2</td>\n      <td>-0.0175</td>\n      <td>1</td>\n      <td>-0.000362</td>\n      <td>2</td>\n      <td>2</td>\n      <td>2</td>\n      <td>2</td>\n      <td>1</td>\n    </tr>\n    <tr>\n      <th>4</th>\n      <td>5</td>\n      <td>0</td>\n      <td>2</td>\n      <td>2</td>\n      <td>2</td>\n      <td>2</td>\n      <td>-0.007018</td>\n      <td>0</td>\n      <td>0.239003</td>\n      <td>2</td>\n      <td>-0.0165</td>\n      <td>1</td>\n      <td>0.0551</td>\n      <td>2</td>\n      <td>0.000176</td>\n      <td>2</td>\n      <td>2</td>\n      <td>2</td>\n      <td>2</td>\n      <td>1</td>\n    </tr>\n  </tbody>\n</table>\n</div>"
     },
     "execution_count": 65,
     "metadata": {},
     "output_type": "execute_result"
    }
   ],
   "source": [
    "df = df.replace(to_replace=[\"L\"],value=int(2))\n",
    "# Lift equal to 2\n",
    "df = df.replace(to_replace=[\"UL\"],value=int(1))\n",
    "# near left 1\n",
    "df = df.replace(to_replace=[\"R\"],value=-int(-2))\n",
    "# Right -2\n",
    "df = df.replace(to_replace=[\"UR\"],value=int(-1))\n",
    "# near Right -1\n",
    "df = df.replace(to_replace=[\"U\"],value=int(0))\n",
    "# in center 0\n",
    "df = df.replace(to_replace=[\"female\"],value=int(-1))\n",
    "# female -1\n",
    "df = df.replace(to_replace=[\"male\"],value=int(1))\n",
    "# male +1\n",
    "df = df.replace(to_replace=[\"Both\"],value=int(0))\n",
    "# both 0\n",
    "df.head()\n"
   ],
   "metadata": {
    "collapsed": false
   }
  },
  {
   "cell_type": "code",
   "execution_count": 66,
   "outputs": [],
   "source": [
    "list_col_new = ['Number']\n",
    "list_col = ['seizure_Simiology_Laterality', 'Laterality_ictal_EEG',\n",
    "            'ictal_Epileptogenic_zone', 'interictal_irritative_zone',\n",
    "            'MRI_findings','hippocampal volume','FLAIR signal intensity',\n",
    "            'FA cingulum','FA fornix ',\n",
    "            'hippMD' , 'Logistic prediction', 'Side_ C4.5 Decision Tree']\n",
    "\n",
    "# make one hot conding for catorical feature\n",
    "for name in list_col:\n",
    "        df[f\"L_{name}\"] = df[f\"{name}\"] == 2\n",
    "        list_col_new.append(\"L_{name}\")\n",
    "\n",
    "        df[f\"UL_{name}\"] = df[f\"{name}\"] == 1\n",
    "        list_col_new.append(f\"UL_{name}\")\n",
    "\n",
    "        df[f\"R_{name}\"] = df[f\"{name}\"] == -2\n",
    "        list_col_new.append(f\"R_{name}\")\n",
    "\n",
    "        df[f\"UR_{name}\"] = df[f\"{name}\"] == -1\n",
    "        list_col_new.append(f\"UR_{name}\")\n",
    "\n",
    "        df[f\"U_{name}\"] = df[f\"{name}\"] == 0\n",
    "        list_col_new.append(f\"U_{name}\")\n",
    "\n",
    "        del df[f'{name}']\n",
    "\n",
    "\n",
    "df[\"female\"] =  df[\"gender\"] == -1\n",
    "df[\"male\"] =  df[\"gender\"] == +1\n",
    "df[\"Both\"] =  df[\"gender\"] == 0"
   ],
   "metadata": {
    "collapsed": false
   }
  },
  {
   "cell_type": "code",
   "execution_count": 67,
   "outputs": [
    {
     "data": {
      "text/plain": "   Number  Hipp_Vol_LI  Hipp_FLAIR_LI   Cg_LI   Fx_LI  Hipp_MD_LI  gender  \\\n0       1    -0.050890      -0.212758  0.0296  0.0506   -0.000163      -1   \n1       2    -0.084469      -0.326595 -0.1032  0.0208   -0.000138      -1   \n2       3    -0.000530       0.266374 -0.0255 -0.0379   -0.000024      -1   \n3       4    -0.082927      -0.524212 -0.0506 -0.0175   -0.000362       1   \n4       5    -0.007018       0.239003 -0.0165  0.0551    0.000176       1   \n\n   L_seizure_Simiology_Laterality  UL_seizure_Simiology_Laterality  \\\n0                            True                            False   \n1                            True                            False   \n2                           False                            False   \n3                           False                            False   \n4                           False                            False   \n\n   R_seizure_Simiology_Laterality  ...  R_Side_ C4.5 Decision Tree  \\\n0                           False  ...                       False   \n1                           False  ...                       False   \n2                           False  ...                       False   \n3                           False  ...                       False   \n4                           False  ...                       False   \n\n   UR_Side_ C4.5 Decision Tree  U_Side_ C4.5 Decision Tree  L_Handedness  \\\n0                        False                       False          True   \n1                        False                       False          True   \n2                        False                       False          True   \n3                        False                       False          True   \n4                        False                       False          True   \n\n   UL_Handedness  R_Handedness  UR_Handedness  U_Handedness  female   male  \n0          False         False          False         False    True  False  \n1          False         False          False         False    True  False  \n2          False         False          False         False    True  False  \n3          False         False          False         False   False   True  \n4          False         False          False         False   False   True  \n\n[5 rows x 74 columns]",
      "text/html": "<div>\n<style scoped>\n    .dataframe tbody tr th:only-of-type {\n        vertical-align: middle;\n    }\n\n    .dataframe tbody tr th {\n        vertical-align: top;\n    }\n\n    .dataframe thead th {\n        text-align: right;\n    }\n</style>\n<table border=\"1\" class=\"dataframe\">\n  <thead>\n    <tr style=\"text-align: right;\">\n      <th></th>\n      <th>Number</th>\n      <th>Hipp_Vol_LI</th>\n      <th>Hipp_FLAIR_LI</th>\n      <th>Cg_LI</th>\n      <th>Fx_LI</th>\n      <th>Hipp_MD_LI</th>\n      <th>gender</th>\n      <th>L_seizure_Simiology_Laterality</th>\n      <th>UL_seizure_Simiology_Laterality</th>\n      <th>R_seizure_Simiology_Laterality</th>\n      <th>...</th>\n      <th>R_Side_ C4.5 Decision Tree</th>\n      <th>UR_Side_ C4.5 Decision Tree</th>\n      <th>U_Side_ C4.5 Decision Tree</th>\n      <th>L_Handedness</th>\n      <th>UL_Handedness</th>\n      <th>R_Handedness</th>\n      <th>UR_Handedness</th>\n      <th>U_Handedness</th>\n      <th>female</th>\n      <th>male</th>\n    </tr>\n  </thead>\n  <tbody>\n    <tr>\n      <th>0</th>\n      <td>1</td>\n      <td>-0.050890</td>\n      <td>-0.212758</td>\n      <td>0.0296</td>\n      <td>0.0506</td>\n      <td>-0.000163</td>\n      <td>-1</td>\n      <td>True</td>\n      <td>False</td>\n      <td>False</td>\n      <td>...</td>\n      <td>False</td>\n      <td>False</td>\n      <td>False</td>\n      <td>True</td>\n      <td>False</td>\n      <td>False</td>\n      <td>False</td>\n      <td>False</td>\n      <td>True</td>\n      <td>False</td>\n    </tr>\n    <tr>\n      <th>1</th>\n      <td>2</td>\n      <td>-0.084469</td>\n      <td>-0.326595</td>\n      <td>-0.1032</td>\n      <td>0.0208</td>\n      <td>-0.000138</td>\n      <td>-1</td>\n      <td>True</td>\n      <td>False</td>\n      <td>False</td>\n      <td>...</td>\n      <td>False</td>\n      <td>False</td>\n      <td>False</td>\n      <td>True</td>\n      <td>False</td>\n      <td>False</td>\n      <td>False</td>\n      <td>False</td>\n      <td>True</td>\n      <td>False</td>\n    </tr>\n    <tr>\n      <th>2</th>\n      <td>3</td>\n      <td>-0.000530</td>\n      <td>0.266374</td>\n      <td>-0.0255</td>\n      <td>-0.0379</td>\n      <td>-0.000024</td>\n      <td>-1</td>\n      <td>False</td>\n      <td>False</td>\n      <td>False</td>\n      <td>...</td>\n      <td>False</td>\n      <td>False</td>\n      <td>False</td>\n      <td>True</td>\n      <td>False</td>\n      <td>False</td>\n      <td>False</td>\n      <td>False</td>\n      <td>True</td>\n      <td>False</td>\n    </tr>\n    <tr>\n      <th>3</th>\n      <td>4</td>\n      <td>-0.082927</td>\n      <td>-0.524212</td>\n      <td>-0.0506</td>\n      <td>-0.0175</td>\n      <td>-0.000362</td>\n      <td>1</td>\n      <td>False</td>\n      <td>False</td>\n      <td>False</td>\n      <td>...</td>\n      <td>False</td>\n      <td>False</td>\n      <td>False</td>\n      <td>True</td>\n      <td>False</td>\n      <td>False</td>\n      <td>False</td>\n      <td>False</td>\n      <td>False</td>\n      <td>True</td>\n    </tr>\n    <tr>\n      <th>4</th>\n      <td>5</td>\n      <td>-0.007018</td>\n      <td>0.239003</td>\n      <td>-0.0165</td>\n      <td>0.0551</td>\n      <td>0.000176</td>\n      <td>1</td>\n      <td>False</td>\n      <td>False</td>\n      <td>False</td>\n      <td>...</td>\n      <td>False</td>\n      <td>False</td>\n      <td>False</td>\n      <td>True</td>\n      <td>False</td>\n      <td>False</td>\n      <td>False</td>\n      <td>False</td>\n      <td>False</td>\n      <td>True</td>\n    </tr>\n  </tbody>\n</table>\n<p>5 rows × 74 columns</p>\n</div>"
     },
     "execution_count": 67,
     "metadata": {},
     "output_type": "execute_result"
    }
   ],
   "source": [
    "df.head()\n",
    "\n"
   ],
   "metadata": {
    "collapsed": false
   }
  },
  {
   "cell_type": "code",
   "execution_count": 68,
   "outputs": [],
   "source": [
    "# new_col = [p for p in df.columns if p not in list_col_new]\n",
    "# for column in new_col:\n",
    "#         df[column] = (df[column] - df[column].mean()) / df[column].std()\n",
    "# df.head()\n"
   ],
   "metadata": {
    "collapsed": false
   }
  },
  {
   "cell_type": "code",
   "execution_count": 69,
   "outputs": [
    {
     "data": {
      "text/plain": "          Number  Hipp_Vol_LI  Hipp_FLAIR_LI      Cg_LI      Fx_LI  \\\ncount  35.000000    35.000000      35.000000  35.000000  35.000000   \nmean   17.742857    -0.016640      -0.097719  -0.032931   0.013771   \nstd    10.062577     0.061620       0.267247   0.046677   0.033438   \nmin     1.000000    -0.129227      -0.558875  -0.140300  -0.046900   \n25%     9.500000    -0.063088      -0.325745  -0.060300  -0.013550   \n50%    18.000000    -0.017164      -0.073292  -0.031900   0.020600   \n75%    25.500000     0.007082       0.079581  -0.001750   0.042000   \nmax    36.000000     0.106508       0.499853   0.080900   0.071600   \n\n       Hipp_MD_LI     gender  \ncount   35.000000  35.000000  \nmean    -0.000054  -0.028571  \nstd      0.000189   1.014185  \nmin     -0.000765  -1.000000  \n25%     -0.000141  -1.000000  \n50%     -0.000024  -1.000000  \n75%      0.000042   1.000000  \nmax      0.000284   1.000000  ",
      "text/html": "<div>\n<style scoped>\n    .dataframe tbody tr th:only-of-type {\n        vertical-align: middle;\n    }\n\n    .dataframe tbody tr th {\n        vertical-align: top;\n    }\n\n    .dataframe thead th {\n        text-align: right;\n    }\n</style>\n<table border=\"1\" class=\"dataframe\">\n  <thead>\n    <tr style=\"text-align: right;\">\n      <th></th>\n      <th>Number</th>\n      <th>Hipp_Vol_LI</th>\n      <th>Hipp_FLAIR_LI</th>\n      <th>Cg_LI</th>\n      <th>Fx_LI</th>\n      <th>Hipp_MD_LI</th>\n      <th>gender</th>\n    </tr>\n  </thead>\n  <tbody>\n    <tr>\n      <th>count</th>\n      <td>35.000000</td>\n      <td>35.000000</td>\n      <td>35.000000</td>\n      <td>35.000000</td>\n      <td>35.000000</td>\n      <td>35.000000</td>\n      <td>35.000000</td>\n    </tr>\n    <tr>\n      <th>mean</th>\n      <td>17.742857</td>\n      <td>-0.016640</td>\n      <td>-0.097719</td>\n      <td>-0.032931</td>\n      <td>0.013771</td>\n      <td>-0.000054</td>\n      <td>-0.028571</td>\n    </tr>\n    <tr>\n      <th>std</th>\n      <td>10.062577</td>\n      <td>0.061620</td>\n      <td>0.267247</td>\n      <td>0.046677</td>\n      <td>0.033438</td>\n      <td>0.000189</td>\n      <td>1.014185</td>\n    </tr>\n    <tr>\n      <th>min</th>\n      <td>1.000000</td>\n      <td>-0.129227</td>\n      <td>-0.558875</td>\n      <td>-0.140300</td>\n      <td>-0.046900</td>\n      <td>-0.000765</td>\n      <td>-1.000000</td>\n    </tr>\n    <tr>\n      <th>25%</th>\n      <td>9.500000</td>\n      <td>-0.063088</td>\n      <td>-0.325745</td>\n      <td>-0.060300</td>\n      <td>-0.013550</td>\n      <td>-0.000141</td>\n      <td>-1.000000</td>\n    </tr>\n    <tr>\n      <th>50%</th>\n      <td>18.000000</td>\n      <td>-0.017164</td>\n      <td>-0.073292</td>\n      <td>-0.031900</td>\n      <td>0.020600</td>\n      <td>-0.000024</td>\n      <td>-1.000000</td>\n    </tr>\n    <tr>\n      <th>75%</th>\n      <td>25.500000</td>\n      <td>0.007082</td>\n      <td>0.079581</td>\n      <td>-0.001750</td>\n      <td>0.042000</td>\n      <td>0.000042</td>\n      <td>1.000000</td>\n    </tr>\n    <tr>\n      <th>max</th>\n      <td>36.000000</td>\n      <td>0.106508</td>\n      <td>0.499853</td>\n      <td>0.080900</td>\n      <td>0.071600</td>\n      <td>0.000284</td>\n      <td>1.000000</td>\n    </tr>\n  </tbody>\n</table>\n</div>"
     },
     "execution_count": 69,
     "metadata": {},
     "output_type": "execute_result"
    }
   ],
   "source": [
    "df.describe()"
   ],
   "metadata": {
    "collapsed": false
   }
  },
  {
   "cell_type": "code",
   "execution_count": 70,
   "outputs": [
    {
     "name": "stdout",
     "output_type": "stream",
     "text": [
      "accuracy: 0.7428571428571429\n",
      "recall: 0.7333333333333333\n",
      "f1 : 0.6742857142857143\n"
     ]
    }
   ],
   "source": [
    "from sklearn.ensemble import AdaBoostClassifier\n",
    "from sklearn.model_selection import KFold, cross_val_score\n",
    "\n",
    "del df['Number']\n",
    "for column in df.columns:\n",
    "    if df[column].isnull().values.any():\n",
    "        print(column)\n",
    "X = df.values.tolist()\n",
    "# make Adaboost withh 500 tree\n",
    "clf = AdaBoostClassifier(n_estimators=500, random_state=0)\n",
    "# make Kfold with k = 5\n",
    "cv = KFold(n_splits=5, random_state=1, shuffle=True)\n",
    "# find accuracy by cross val\n",
    "accuracy = cross_val_score(clf, X, label, scoring='accuracy', cv=cv, n_jobs=-1)\n",
    "\n",
    "print(f\"accuracy: {mean(accuracy)}\")\n",
    "recall = cross_val_score(clf, X, label, scoring='recall', cv=cv, n_jobs=-1)\n",
    "print(f\"recall: {mean(recall)}\")\n",
    "f1 = cross_val_score(clf, X, label, scoring='f1', cv=cv, n_jobs=-1)\n",
    "print(f\"f1 : {mean(f1)}\")"
   ],
   "metadata": {
    "collapsed": false
   }
  },
  {
   "cell_type": "code",
   "execution_count": 71,
   "outputs": [
    {
     "data": {
      "text/plain": "array([0.71428571, 0.85714286, 0.71428571, 0.85714286, 0.57142857])"
     },
     "execution_count": 71,
     "metadata": {},
     "output_type": "execute_result"
    }
   ],
   "source": [
    "accuracy\n"
   ],
   "metadata": {
    "collapsed": false
   }
  },
  {
   "cell_type": "code",
   "execution_count": 72,
   "outputs": [
    {
     "data": {
      "text/plain": "array([0.5       , 1.        , 1.        , 0.5       , 0.66666667])"
     },
     "execution_count": 72,
     "metadata": {},
     "output_type": "execute_result"
    }
   ],
   "source": [
    "recall"
   ],
   "metadata": {
    "collapsed": false
   }
  },
  {
   "cell_type": "code",
   "execution_count": 73,
   "outputs": [
    {
     "data": {
      "text/plain": "array([0.66666667, 0.8       , 0.66666667, 0.66666667, 0.57142857])"
     },
     "execution_count": 73,
     "metadata": {},
     "output_type": "execute_result"
    }
   ],
   "source": [
    "f1\n"
   ],
   "metadata": {
    "collapsed": false
   }
  },
  {
   "cell_type": "code",
   "execution_count": 74,
   "outputs": [
    {
     "name": "stdout",
     "output_type": "stream",
     "text": [
      "accuracy: 0.7428571428571429\n",
      "recall: 0.5952380952380951\n",
      "f1 : 0.6\n"
     ]
    }
   ],
   "source": [
    "\n",
    "clf = AdaBoostClassifier(n_estimators=500, random_state=0)\n",
    "# make Kfold with k = 7\n",
    "cv = KFold(n_splits=7, random_state=1, shuffle=True)\n",
    "accuracy = cross_val_score(clf, X, label, scoring='accuracy', cv=cv, n_jobs=-1)\n",
    "\n",
    "\n",
    "print(f\"accuracy: {mean(accuracy)}\")\n",
    "recall = cross_val_score(clf, X, label, scoring='recall', cv=cv, n_jobs=-1)\n",
    "print(f\"recall: {mean(recall)}\")\n",
    "f1 = cross_val_score(clf, X, label, scoring='f1', cv=cv, n_jobs=-1)\n",
    "print(f\"f1 : {mean(f1)}\")"
   ],
   "metadata": {
    "collapsed": false
   }
  },
  {
   "cell_type": "code",
   "execution_count": 75,
   "outputs": [
    {
     "data": {
      "text/plain": "array([0.8, 0.8, 1. , 0.6, 0.8, 0.8, 0.4])"
     },
     "execution_count": 75,
     "metadata": {},
     "output_type": "execute_result"
    }
   ],
   "source": [
    "accuracy\n"
   ],
   "metadata": {
    "collapsed": false
   }
  },
  {
   "cell_type": "code",
   "execution_count": 76,
   "outputs": [
    {
     "data": {
      "text/plain": "array([0.66666667, 0.5       , 1.        , 1.        , 0.5       ,\n       0.        , 0.5       ])"
     },
     "execution_count": 76,
     "metadata": {},
     "output_type": "execute_result"
    }
   ],
   "source": [
    "recall"
   ],
   "metadata": {
    "collapsed": false
   }
  },
  {
   "cell_type": "code",
   "execution_count": 77,
   "outputs": [
    {
     "data": {
      "text/plain": "array([0.8       , 0.66666667, 1.        , 0.66666667, 0.66666667,\n       0.        , 0.4       ])"
     },
     "execution_count": 77,
     "metadata": {},
     "output_type": "execute_result"
    }
   ],
   "source": [
    "f1"
   ],
   "metadata": {
    "collapsed": false
   }
  },
  {
   "cell_type": "code",
   "execution_count": 82,
   "outputs": [
    {
     "name": "stdout",
     "output_type": "stream",
     "text": [
      "accuracy: 0.75\n"
     ]
    },
    {
     "name": "stderr",
     "output_type": "stream",
     "text": [
      "/home/mehxi/PycharmProjects/project_2/venv/lib/python3.10/site-packages/sklearn/metrics/_classification.py:1334: UndefinedMetricWarning: Recall is ill-defined and being set to 0.0 due to no true samples. Use `zero_division` parameter to control this behavior.\n",
      "  _warn_prf(average, modifier, msg_start, len(result))\n",
      "/home/mehxi/PycharmProjects/project_2/venv/lib/python3.10/site-packages/sklearn/metrics/_classification.py:1334: UndefinedMetricWarning: Recall is ill-defined and being set to 0.0 due to no true samples. Use `zero_division` parameter to control this behavior.\n",
      "  _warn_prf(average, modifier, msg_start, len(result))\n"
     ]
    },
    {
     "name": "stdout",
     "output_type": "stream",
     "text": [
      "recall: 0.5166666666666666\n"
     ]
    },
    {
     "name": "stderr",
     "output_type": "stream",
     "text": [
      "/home/mehxi/PycharmProjects/project_2/venv/lib/python3.10/site-packages/sklearn/metrics/_classification.py:1599: UndefinedMetricWarning: F-score is ill-defined and being set to 0.0 due to no true nor predicted samples. Use `zero_division` parameter to control this behavior.\n",
      "  _warn_prf(average, \"true nor predicted\", \"F-score is\", len(true_sum))\n",
      "/home/mehxi/PycharmProjects/project_2/venv/lib/python3.10/site-packages/sklearn/metrics/_classification.py:1599: UndefinedMetricWarning: F-score is ill-defined and being set to 0.0 due to no true nor predicted samples. Use `zero_division` parameter to control this behavior.\n",
      "  _warn_prf(average, \"true nor predicted\", \"F-score is\", len(true_sum))\n"
     ]
    },
    {
     "name": "stdout",
     "output_type": "stream",
     "text": [
      "f1 : 0.44666666666666666\n"
     ]
    }
   ],
   "source": [
    "clf = AdaBoostClassifier(n_estimators=500, random_state=0)\n",
    "# make Kfold with k = 10\n",
    "\n",
    "cv = KFold(n_splits=10, random_state=1, shuffle=True)\n",
    "accuracy = cross_val_score(clf, X, label, scoring='accuracy', cv=cv, n_jobs=-1)\n",
    "\n",
    "print(f\"accuracy: {mean(accuracy)}\")\n",
    "recall = cross_val_score(clf, X, label, scoring='recall', cv=cv, n_jobs=-1)\n",
    "print(f\"recall: {mean(recall)}\")\n",
    "f1 = cross_val_score(clf, X, label, scoring='f1', cv=cv, n_jobs=-1)\n",
    "print(f\"f1 : {mean(f1)}\")"
   ],
   "metadata": {
    "collapsed": false
   }
  },
  {
   "cell_type": "code",
   "execution_count": 79,
   "outputs": [
    {
     "data": {
      "text/plain": "array([0.75      , 0.5       , 1.        , 0.75      , 0.5       ,\n       0.66666667, 1.        , 1.        , 0.66666667, 0.66666667])"
     },
     "execution_count": 79,
     "metadata": {},
     "output_type": "execute_result"
    }
   ],
   "source": [
    "accuracy"
   ],
   "metadata": {
    "collapsed": false
   }
  },
  {
   "cell_type": "code",
   "execution_count": 80,
   "outputs": [
    {
     "data": {
      "text/plain": "array([0.66666667, 0.        , 0.        , 1.        , 1.        ,\n       0.        , 1.        , 0.        , 0.5       , 1.        ])"
     },
     "execution_count": 80,
     "metadata": {},
     "output_type": "execute_result"
    }
   ],
   "source": [
    "recall"
   ],
   "metadata": {
    "collapsed": false
   }
  },
  {
   "cell_type": "code",
   "execution_count": 81,
   "outputs": [
    {
     "data": {
      "text/plain": "array([0.8       , 0.        , 0.        , 0.66666667, 0.66666667,\n       0.        , 1.        , 0.        , 0.66666667, 0.66666667])"
     },
     "execution_count": 81,
     "metadata": {},
     "output_type": "execute_result"
    }
   ],
   "source": [
    "f1\n"
   ],
   "metadata": {
    "collapsed": false
   }
  }
 ],
 "metadata": {
  "kernelspec": {
   "display_name": "Python 3",
   "language": "python",
   "name": "python3"
  },
  "language_info": {
   "codemirror_mode": {
    "name": "ipython",
    "version": 2
   },
   "file_extension": ".py",
   "mimetype": "text/x-python",
   "name": "python",
   "nbconvert_exporter": "python",
   "pygments_lexer": "ipython2",
   "version": "2.7.6"
  }
 },
 "nbformat": 4,
 "nbformat_minor": 0
}
