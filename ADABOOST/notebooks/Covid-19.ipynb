{
 "cells": [
  {
   "cell_type": "code",
   "execution_count": 27,
   "metadata": {
    "collapsed": true
   },
   "outputs": [
    {
     "data": {
      "text/plain": "   Unnamed: 0         24         25         26         27         28  \\\n0           0  12.649111  12.649111  14.866069  14.866069  14.866069   \n1           1  12.649111  12.649111  14.866069  14.866069  14.866069   \n2           2  12.649111  12.649111  14.866069  14.866069  14.866069   \n3           3  12.649111  12.649111  14.866069  14.866069  14.866069   \n4           4  12.649111  12.649111  14.866069  14.866069  14.866069   \n\n          29           30         31        32  ...       120       121  \\\n0  17.916473  1315.166667  12.649111  0.845494  ...  0.012486  2.807355   \n1  17.916473  1315.166667  12.649111  0.845494  ...  0.086355  2.251629   \n2  17.916473  1315.166667  12.649111  0.845494  ...  0.000071  1.000000   \n3  17.916473  1315.166667  12.649111  0.845494  ...  0.007813  1.000000   \n4  17.916473  1315.166667  12.649111  0.845494  ...  0.007115  2.000000   \n\n        122          123         124       125       126       127       128  \\\n0  0.005259  185664.9796   27.786751  0.022321  0.067320  0.004260  0.021317   \n1  0.004508  159005.8056  104.576056  0.010166  0.147812  0.021344  0.010235   \n2  0.001503  338142.2500    5.368423  0.051438  0.029212  0.001860  0.047770   \n3  0.001503  432306.2500    0.757840  0.332886  0.004514  0.000034  0.266104   \n4  0.003005  275522.1875   34.547257  0.018156  0.082762  0.005303  0.017866   \n\n   Infection  \n0          1  \n1          1  \n2          0  \n3          0  \n4          1  \n\n[5 rows x 107 columns]",
      "text/html": "<div>\n<style scoped>\n    .dataframe tbody tr th:only-of-type {\n        vertical-align: middle;\n    }\n\n    .dataframe tbody tr th {\n        vertical-align: top;\n    }\n\n    .dataframe thead th {\n        text-align: right;\n    }\n</style>\n<table border=\"1\" class=\"dataframe\">\n  <thead>\n    <tr style=\"text-align: right;\">\n      <th></th>\n      <th>Unnamed: 0</th>\n      <th>24</th>\n      <th>25</th>\n      <th>26</th>\n      <th>27</th>\n      <th>28</th>\n      <th>29</th>\n      <th>30</th>\n      <th>31</th>\n      <th>32</th>\n      <th>...</th>\n      <th>120</th>\n      <th>121</th>\n      <th>122</th>\n      <th>123</th>\n      <th>124</th>\n      <th>125</th>\n      <th>126</th>\n      <th>127</th>\n      <th>128</th>\n      <th>Infection</th>\n    </tr>\n  </thead>\n  <tbody>\n    <tr>\n      <th>0</th>\n      <td>0</td>\n      <td>12.649111</td>\n      <td>12.649111</td>\n      <td>14.866069</td>\n      <td>14.866069</td>\n      <td>14.866069</td>\n      <td>17.916473</td>\n      <td>1315.166667</td>\n      <td>12.649111</td>\n      <td>0.845494</td>\n      <td>...</td>\n      <td>0.012486</td>\n      <td>2.807355</td>\n      <td>0.005259</td>\n      <td>185664.9796</td>\n      <td>27.786751</td>\n      <td>0.022321</td>\n      <td>0.067320</td>\n      <td>0.004260</td>\n      <td>0.021317</td>\n      <td>1</td>\n    </tr>\n    <tr>\n      <th>1</th>\n      <td>1</td>\n      <td>12.649111</td>\n      <td>12.649111</td>\n      <td>14.866069</td>\n      <td>14.866069</td>\n      <td>14.866069</td>\n      <td>17.916473</td>\n      <td>1315.166667</td>\n      <td>12.649111</td>\n      <td>0.845494</td>\n      <td>...</td>\n      <td>0.086355</td>\n      <td>2.251629</td>\n      <td>0.004508</td>\n      <td>159005.8056</td>\n      <td>104.576056</td>\n      <td>0.010166</td>\n      <td>0.147812</td>\n      <td>0.021344</td>\n      <td>0.010235</td>\n      <td>1</td>\n    </tr>\n    <tr>\n      <th>2</th>\n      <td>2</td>\n      <td>12.649111</td>\n      <td>12.649111</td>\n      <td>14.866069</td>\n      <td>14.866069</td>\n      <td>14.866069</td>\n      <td>17.916473</td>\n      <td>1315.166667</td>\n      <td>12.649111</td>\n      <td>0.845494</td>\n      <td>...</td>\n      <td>0.000071</td>\n      <td>1.000000</td>\n      <td>0.001503</td>\n      <td>338142.2500</td>\n      <td>5.368423</td>\n      <td>0.051438</td>\n      <td>0.029212</td>\n      <td>0.001860</td>\n      <td>0.047770</td>\n      <td>0</td>\n    </tr>\n    <tr>\n      <th>3</th>\n      <td>3</td>\n      <td>12.649111</td>\n      <td>12.649111</td>\n      <td>14.866069</td>\n      <td>14.866069</td>\n      <td>14.866069</td>\n      <td>17.916473</td>\n      <td>1315.166667</td>\n      <td>12.649111</td>\n      <td>0.845494</td>\n      <td>...</td>\n      <td>0.007813</td>\n      <td>1.000000</td>\n      <td>0.001503</td>\n      <td>432306.2500</td>\n      <td>0.757840</td>\n      <td>0.332886</td>\n      <td>0.004514</td>\n      <td>0.000034</td>\n      <td>0.266104</td>\n      <td>0</td>\n    </tr>\n    <tr>\n      <th>4</th>\n      <td>4</td>\n      <td>12.649111</td>\n      <td>12.649111</td>\n      <td>14.866069</td>\n      <td>14.866069</td>\n      <td>14.866069</td>\n      <td>17.916473</td>\n      <td>1315.166667</td>\n      <td>12.649111</td>\n      <td>0.845494</td>\n      <td>...</td>\n      <td>0.007115</td>\n      <td>2.000000</td>\n      <td>0.003005</td>\n      <td>275522.1875</td>\n      <td>34.547257</td>\n      <td>0.018156</td>\n      <td>0.082762</td>\n      <td>0.005303</td>\n      <td>0.017866</td>\n      <td>1</td>\n    </tr>\n  </tbody>\n</table>\n<p>5 rows × 107 columns</p>\n</div>"
     },
     "execution_count": 27,
     "metadata": {},
     "output_type": "execute_result"
    }
   ],
   "source": [
    "import pandas as pd\n",
    "\n",
    "# read from data set\n",
    "df =  pd.read_csv('COVID_Dataset.csv')\n",
    "df.head()\n"
   ]
  },
  {
   "cell_type": "code",
   "execution_count": 27,
   "outputs": [],
   "source": [],
   "metadata": {
    "collapsed": false
   }
  },
  {
   "cell_type": "code",
   "execution_count": 28,
   "outputs": [
    {
     "name": "stdout",
     "output_type": "stream",
     "text": [
      "Index(['Unnamed: 0', '24', '25', '26', '27', '28', '29', '30', '31', '32',\n",
      "       ...\n",
      "       '120', '121', '122', '123', '124', '125', '126', '127', '128',\n",
      "       'Infection'],\n",
      "      dtype='object', length=107)\n"
     ]
    }
   ],
   "source": [
    "print(df.columns)"
   ],
   "metadata": {
    "collapsed": false
   }
  },
  {
   "cell_type": "code",
   "execution_count": 29,
   "outputs": [],
   "source": [
    "#Delete column that show index\n",
    "del df['Unnamed: 0']"
   ],
   "metadata": {
    "collapsed": false
   }
  },
  {
   "cell_type": "code",
   "execution_count": 30,
   "outputs": [
    {
     "data": {
      "text/plain": "          24         25         26         27         28         29  \\\n0  12.649111  12.649111  14.866069  14.866069  14.866069  17.916473   \n1  12.649111  12.649111  14.866069  14.866069  14.866069  17.916473   \n2  12.649111  12.649111  14.866069  14.866069  14.866069  17.916473   \n3  12.649111  12.649111  14.866069  14.866069  14.866069  17.916473   \n4  12.649111  12.649111  14.866069  14.866069  14.866069  17.916473   \n\n            30         31        32          33  ...       120       121  \\\n0  1315.166667  12.649111  0.845494  686.584864  ...  0.012486  2.807355   \n1  1315.166667  12.649111  0.845494  686.584864  ...  0.086355  2.251629   \n2  1315.166667  12.649111  0.845494  686.584864  ...  0.000071  1.000000   \n3  1315.166667  12.649111  0.845494  686.584864  ...  0.007813  1.000000   \n4  1315.166667  12.649111  0.845494  686.584864  ...  0.007115  2.000000   \n\n        122          123         124       125       126       127       128  \\\n0  0.005259  185664.9796   27.786751  0.022321  0.067320  0.004260  0.021317   \n1  0.004508  159005.8056  104.576056  0.010166  0.147812  0.021344  0.010235   \n2  0.001503  338142.2500    5.368423  0.051438  0.029212  0.001860  0.047770   \n3  0.001503  432306.2500    0.757840  0.332886  0.004514  0.000034  0.266104   \n4  0.003005  275522.1875   34.547257  0.018156  0.082762  0.005303  0.017866   \n\n   Infection  \n0          1  \n1          1  \n2          0  \n3          0  \n4          1  \n\n[5 rows x 106 columns]",
      "text/html": "<div>\n<style scoped>\n    .dataframe tbody tr th:only-of-type {\n        vertical-align: middle;\n    }\n\n    .dataframe tbody tr th {\n        vertical-align: top;\n    }\n\n    .dataframe thead th {\n        text-align: right;\n    }\n</style>\n<table border=\"1\" class=\"dataframe\">\n  <thead>\n    <tr style=\"text-align: right;\">\n      <th></th>\n      <th>24</th>\n      <th>25</th>\n      <th>26</th>\n      <th>27</th>\n      <th>28</th>\n      <th>29</th>\n      <th>30</th>\n      <th>31</th>\n      <th>32</th>\n      <th>33</th>\n      <th>...</th>\n      <th>120</th>\n      <th>121</th>\n      <th>122</th>\n      <th>123</th>\n      <th>124</th>\n      <th>125</th>\n      <th>126</th>\n      <th>127</th>\n      <th>128</th>\n      <th>Infection</th>\n    </tr>\n  </thead>\n  <tbody>\n    <tr>\n      <th>0</th>\n      <td>12.649111</td>\n      <td>12.649111</td>\n      <td>14.866069</td>\n      <td>14.866069</td>\n      <td>14.866069</td>\n      <td>17.916473</td>\n      <td>1315.166667</td>\n      <td>12.649111</td>\n      <td>0.845494</td>\n      <td>686.584864</td>\n      <td>...</td>\n      <td>0.012486</td>\n      <td>2.807355</td>\n      <td>0.005259</td>\n      <td>185664.9796</td>\n      <td>27.786751</td>\n      <td>0.022321</td>\n      <td>0.067320</td>\n      <td>0.004260</td>\n      <td>0.021317</td>\n      <td>1</td>\n    </tr>\n    <tr>\n      <th>1</th>\n      <td>12.649111</td>\n      <td>12.649111</td>\n      <td>14.866069</td>\n      <td>14.866069</td>\n      <td>14.866069</td>\n      <td>17.916473</td>\n      <td>1315.166667</td>\n      <td>12.649111</td>\n      <td>0.845494</td>\n      <td>686.584864</td>\n      <td>...</td>\n      <td>0.086355</td>\n      <td>2.251629</td>\n      <td>0.004508</td>\n      <td>159005.8056</td>\n      <td>104.576056</td>\n      <td>0.010166</td>\n      <td>0.147812</td>\n      <td>0.021344</td>\n      <td>0.010235</td>\n      <td>1</td>\n    </tr>\n    <tr>\n      <th>2</th>\n      <td>12.649111</td>\n      <td>12.649111</td>\n      <td>14.866069</td>\n      <td>14.866069</td>\n      <td>14.866069</td>\n      <td>17.916473</td>\n      <td>1315.166667</td>\n      <td>12.649111</td>\n      <td>0.845494</td>\n      <td>686.584864</td>\n      <td>...</td>\n      <td>0.000071</td>\n      <td>1.000000</td>\n      <td>0.001503</td>\n      <td>338142.2500</td>\n      <td>5.368423</td>\n      <td>0.051438</td>\n      <td>0.029212</td>\n      <td>0.001860</td>\n      <td>0.047770</td>\n      <td>0</td>\n    </tr>\n    <tr>\n      <th>3</th>\n      <td>12.649111</td>\n      <td>12.649111</td>\n      <td>14.866069</td>\n      <td>14.866069</td>\n      <td>14.866069</td>\n      <td>17.916473</td>\n      <td>1315.166667</td>\n      <td>12.649111</td>\n      <td>0.845494</td>\n      <td>686.584864</td>\n      <td>...</td>\n      <td>0.007813</td>\n      <td>1.000000</td>\n      <td>0.001503</td>\n      <td>432306.2500</td>\n      <td>0.757840</td>\n      <td>0.332886</td>\n      <td>0.004514</td>\n      <td>0.000034</td>\n      <td>0.266104</td>\n      <td>0</td>\n    </tr>\n    <tr>\n      <th>4</th>\n      <td>12.649111</td>\n      <td>12.649111</td>\n      <td>14.866069</td>\n      <td>14.866069</td>\n      <td>14.866069</td>\n      <td>17.916473</td>\n      <td>1315.166667</td>\n      <td>12.649111</td>\n      <td>0.845494</td>\n      <td>686.584864</td>\n      <td>...</td>\n      <td>0.007115</td>\n      <td>2.000000</td>\n      <td>0.003005</td>\n      <td>275522.1875</td>\n      <td>34.547257</td>\n      <td>0.018156</td>\n      <td>0.082762</td>\n      <td>0.005303</td>\n      <td>0.017866</td>\n      <td>1</td>\n    </tr>\n  </tbody>\n</table>\n<p>5 rows × 106 columns</p>\n</div>"
     },
     "execution_count": 30,
     "metadata": {},
     "output_type": "execute_result"
    }
   ],
   "source": [
    "df.head()"
   ],
   "metadata": {
    "collapsed": false
   }
  },
  {
   "cell_type": "code",
   "execution_count": 31,
   "outputs": [
    {
     "data": {
      "text/plain": "         36        37           38        39        40         41        42  \\\n0 -0.134780 -0.024410    14.545823  0.345491  0.052557  22.512263  0.456488   \n1 -0.085899  0.054907    33.993878  0.672491  0.047374  21.790254  1.173460   \n2  0.575542  1.048788  1218.670868  0.339670  0.044061  10.261242  1.105904   \n3  0.899426  1.715812  1997.735245  0.052993  0.475470   3.851524  2.129827   \n4 -0.516361 -0.092693   240.693081  0.356972  0.151774   8.379730  0.673481   \n\n         43        44        45  ...       120       121       122  \\\n0  0.040340 -0.081476 -0.094048  ...  0.012486  2.807355  0.005259   \n1  0.079642 -0.007310 -0.046421  ...  0.086355  2.251629  0.004508   \n2  0.216354  0.886834  1.009623  ...  0.000071  1.000000  0.001503   \n3  0.285866  1.169449  1.045625  ...  0.007813  1.000000  0.001503   \n4  0.135732 -0.378181 -0.454677  ...  0.007115  2.000000  0.003005   \n\n           123         124       125       126       127       128  Infection  \n0  185664.9796   27.786751  0.022321  0.067320  0.004260  0.021317          1  \n1  159005.8056  104.576056  0.010166  0.147812  0.021344  0.010235          1  \n2  338142.2500    5.368423  0.051438  0.029212  0.001860  0.047770          0  \n3  432306.2500    0.757840  0.332886  0.004514  0.000034  0.266104          0  \n4  275522.1875   34.547257  0.018156  0.082762  0.005303  0.017866          1  \n\n[5 rows x 94 columns]",
      "text/html": "<div>\n<style scoped>\n    .dataframe tbody tr th:only-of-type {\n        vertical-align: middle;\n    }\n\n    .dataframe tbody tr th {\n        vertical-align: top;\n    }\n\n    .dataframe thead th {\n        text-align: right;\n    }\n</style>\n<table border=\"1\" class=\"dataframe\">\n  <thead>\n    <tr style=\"text-align: right;\">\n      <th></th>\n      <th>36</th>\n      <th>37</th>\n      <th>38</th>\n      <th>39</th>\n      <th>40</th>\n      <th>41</th>\n      <th>42</th>\n      <th>43</th>\n      <th>44</th>\n      <th>45</th>\n      <th>...</th>\n      <th>120</th>\n      <th>121</th>\n      <th>122</th>\n      <th>123</th>\n      <th>124</th>\n      <th>125</th>\n      <th>126</th>\n      <th>127</th>\n      <th>128</th>\n      <th>Infection</th>\n    </tr>\n  </thead>\n  <tbody>\n    <tr>\n      <th>0</th>\n      <td>-0.134780</td>\n      <td>-0.024410</td>\n      <td>14.545823</td>\n      <td>0.345491</td>\n      <td>0.052557</td>\n      <td>22.512263</td>\n      <td>0.456488</td>\n      <td>0.040340</td>\n      <td>-0.081476</td>\n      <td>-0.094048</td>\n      <td>...</td>\n      <td>0.012486</td>\n      <td>2.807355</td>\n      <td>0.005259</td>\n      <td>185664.9796</td>\n      <td>27.786751</td>\n      <td>0.022321</td>\n      <td>0.067320</td>\n      <td>0.004260</td>\n      <td>0.021317</td>\n      <td>1</td>\n    </tr>\n    <tr>\n      <th>1</th>\n      <td>-0.085899</td>\n      <td>0.054907</td>\n      <td>33.993878</td>\n      <td>0.672491</td>\n      <td>0.047374</td>\n      <td>21.790254</td>\n      <td>1.173460</td>\n      <td>0.079642</td>\n      <td>-0.007310</td>\n      <td>-0.046421</td>\n      <td>...</td>\n      <td>0.086355</td>\n      <td>2.251629</td>\n      <td>0.004508</td>\n      <td>159005.8056</td>\n      <td>104.576056</td>\n      <td>0.010166</td>\n      <td>0.147812</td>\n      <td>0.021344</td>\n      <td>0.010235</td>\n      <td>1</td>\n    </tr>\n    <tr>\n      <th>2</th>\n      <td>0.575542</td>\n      <td>1.048788</td>\n      <td>1218.670868</td>\n      <td>0.339670</td>\n      <td>0.044061</td>\n      <td>10.261242</td>\n      <td>1.105904</td>\n      <td>0.216354</td>\n      <td>0.886834</td>\n      <td>1.009623</td>\n      <td>...</td>\n      <td>0.000071</td>\n      <td>1.000000</td>\n      <td>0.001503</td>\n      <td>338142.2500</td>\n      <td>5.368423</td>\n      <td>0.051438</td>\n      <td>0.029212</td>\n      <td>0.001860</td>\n      <td>0.047770</td>\n      <td>0</td>\n    </tr>\n    <tr>\n      <th>3</th>\n      <td>0.899426</td>\n      <td>1.715812</td>\n      <td>1997.735245</td>\n      <td>0.052993</td>\n      <td>0.475470</td>\n      <td>3.851524</td>\n      <td>2.129827</td>\n      <td>0.285866</td>\n      <td>1.169449</td>\n      <td>1.045625</td>\n      <td>...</td>\n      <td>0.007813</td>\n      <td>1.000000</td>\n      <td>0.001503</td>\n      <td>432306.2500</td>\n      <td>0.757840</td>\n      <td>0.332886</td>\n      <td>0.004514</td>\n      <td>0.000034</td>\n      <td>0.266104</td>\n      <td>0</td>\n    </tr>\n    <tr>\n      <th>4</th>\n      <td>-0.516361</td>\n      <td>-0.092693</td>\n      <td>240.693081</td>\n      <td>0.356972</td>\n      <td>0.151774</td>\n      <td>8.379730</td>\n      <td>0.673481</td>\n      <td>0.135732</td>\n      <td>-0.378181</td>\n      <td>-0.454677</td>\n      <td>...</td>\n      <td>0.007115</td>\n      <td>2.000000</td>\n      <td>0.003005</td>\n      <td>275522.1875</td>\n      <td>34.547257</td>\n      <td>0.018156</td>\n      <td>0.082762</td>\n      <td>0.005303</td>\n      <td>0.017866</td>\n      <td>1</td>\n    </tr>\n  </tbody>\n</table>\n<p>5 rows × 94 columns</p>\n</div>"
     },
     "execution_count": 31,
     "metadata": {},
     "output_type": "execute_result"
    }
   ],
   "source": [
    "\n",
    "# Delete column which all of its items is same\n",
    "\n",
    "for column in df.columns:\n",
    "        if (df[column] == df[column][0]).all():\n",
    "        #f (df[column].isnull().values.all()):\n",
    "                del df[column]\n",
    "\n",
    "df.head()"
   ],
   "metadata": {
    "collapsed": false
   }
  },
  {
   "cell_type": "code",
   "execution_count": 32,
   "outputs": [
    {
     "data": {
      "text/plain": "         36        37        38        39        40        41        42  \\\n0 -0.146209 -0.891035 -0.926751 -0.195508 -0.769381  1.587472 -0.900329   \n1 -0.067955 -0.776731 -0.901499  0.698730 -0.783803  1.508466 -0.058343   \n2  0.990954  0.655559  0.636706 -0.211425 -0.793021  0.246908 -0.137679   \n3  1.509464  1.616814  1.648257 -0.995395  0.407331 -0.454473  1.064779   \n4 -0.757087 -0.989438 -0.633118 -0.164111 -0.493321  0.041024 -0.645500   \n\n         43        44        45  ...       120       121       122       123  \\\n0 -0.907143 -0.547320 -0.479426  ... -0.459462  1.515272  1.064772  0.199316   \n1 -0.697600 -0.424162 -0.404343  ...  0.106239  0.911294  0.718458 -0.005299   \n2  0.031294  1.060653  1.260471  ... -0.554535 -0.449010 -0.666796  1.369613   \n3  0.401905  1.529962  1.317228  ... -0.495248 -0.449010 -0.666796  2.092344   \n4 -0.398549 -1.040029 -1.047944  ... -0.500592  0.637817  0.025831  0.888990   \n\n        124       125       126       127       128  Infection  \n0 -0.078263 -0.538484 -0.125828 -0.520141 -0.198329          1  \n1 -0.040782 -0.538484  0.971887  0.520377 -0.266717          1  \n2 -0.089205 -0.538484 -0.645513 -0.666339 -0.035082          0  \n3 -0.091455 -0.538484 -0.982337 -0.777567  1.312312          0  \n4 -0.074963 -0.538484  0.084772 -0.456658 -0.219626          1  \n\n[5 rows x 94 columns]",
      "text/html": "<div>\n<style scoped>\n    .dataframe tbody tr th:only-of-type {\n        vertical-align: middle;\n    }\n\n    .dataframe tbody tr th {\n        vertical-align: top;\n    }\n\n    .dataframe thead th {\n        text-align: right;\n    }\n</style>\n<table border=\"1\" class=\"dataframe\">\n  <thead>\n    <tr style=\"text-align: right;\">\n      <th></th>\n      <th>36</th>\n      <th>37</th>\n      <th>38</th>\n      <th>39</th>\n      <th>40</th>\n      <th>41</th>\n      <th>42</th>\n      <th>43</th>\n      <th>44</th>\n      <th>45</th>\n      <th>...</th>\n      <th>120</th>\n      <th>121</th>\n      <th>122</th>\n      <th>123</th>\n      <th>124</th>\n      <th>125</th>\n      <th>126</th>\n      <th>127</th>\n      <th>128</th>\n      <th>Infection</th>\n    </tr>\n  </thead>\n  <tbody>\n    <tr>\n      <th>0</th>\n      <td>-0.146209</td>\n      <td>-0.891035</td>\n      <td>-0.926751</td>\n      <td>-0.195508</td>\n      <td>-0.769381</td>\n      <td>1.587472</td>\n      <td>-0.900329</td>\n      <td>-0.907143</td>\n      <td>-0.547320</td>\n      <td>-0.479426</td>\n      <td>...</td>\n      <td>-0.459462</td>\n      <td>1.515272</td>\n      <td>1.064772</td>\n      <td>0.199316</td>\n      <td>-0.078263</td>\n      <td>-0.538484</td>\n      <td>-0.125828</td>\n      <td>-0.520141</td>\n      <td>-0.198329</td>\n      <td>1</td>\n    </tr>\n    <tr>\n      <th>1</th>\n      <td>-0.067955</td>\n      <td>-0.776731</td>\n      <td>-0.901499</td>\n      <td>0.698730</td>\n      <td>-0.783803</td>\n      <td>1.508466</td>\n      <td>-0.058343</td>\n      <td>-0.697600</td>\n      <td>-0.424162</td>\n      <td>-0.404343</td>\n      <td>...</td>\n      <td>0.106239</td>\n      <td>0.911294</td>\n      <td>0.718458</td>\n      <td>-0.005299</td>\n      <td>-0.040782</td>\n      <td>-0.538484</td>\n      <td>0.971887</td>\n      <td>0.520377</td>\n      <td>-0.266717</td>\n      <td>1</td>\n    </tr>\n    <tr>\n      <th>2</th>\n      <td>0.990954</td>\n      <td>0.655559</td>\n      <td>0.636706</td>\n      <td>-0.211425</td>\n      <td>-0.793021</td>\n      <td>0.246908</td>\n      <td>-0.137679</td>\n      <td>0.031294</td>\n      <td>1.060653</td>\n      <td>1.260471</td>\n      <td>...</td>\n      <td>-0.554535</td>\n      <td>-0.449010</td>\n      <td>-0.666796</td>\n      <td>1.369613</td>\n      <td>-0.089205</td>\n      <td>-0.538484</td>\n      <td>-0.645513</td>\n      <td>-0.666339</td>\n      <td>-0.035082</td>\n      <td>0</td>\n    </tr>\n    <tr>\n      <th>3</th>\n      <td>1.509464</td>\n      <td>1.616814</td>\n      <td>1.648257</td>\n      <td>-0.995395</td>\n      <td>0.407331</td>\n      <td>-0.454473</td>\n      <td>1.064779</td>\n      <td>0.401905</td>\n      <td>1.529962</td>\n      <td>1.317228</td>\n      <td>...</td>\n      <td>-0.495248</td>\n      <td>-0.449010</td>\n      <td>-0.666796</td>\n      <td>2.092344</td>\n      <td>-0.091455</td>\n      <td>-0.538484</td>\n      <td>-0.982337</td>\n      <td>-0.777567</td>\n      <td>1.312312</td>\n      <td>0</td>\n    </tr>\n    <tr>\n      <th>4</th>\n      <td>-0.757087</td>\n      <td>-0.989438</td>\n      <td>-0.633118</td>\n      <td>-0.164111</td>\n      <td>-0.493321</td>\n      <td>0.041024</td>\n      <td>-0.645500</td>\n      <td>-0.398549</td>\n      <td>-1.040029</td>\n      <td>-1.047944</td>\n      <td>...</td>\n      <td>-0.500592</td>\n      <td>0.637817</td>\n      <td>0.025831</td>\n      <td>0.888990</td>\n      <td>-0.074963</td>\n      <td>-0.538484</td>\n      <td>0.084772</td>\n      <td>-0.456658</td>\n      <td>-0.219626</td>\n      <td>1</td>\n    </tr>\n  </tbody>\n</table>\n<p>5 rows × 94 columns</p>\n</div>"
     },
     "execution_count": 32,
     "metadata": {},
     "output_type": "execute_result"
    }
   ],
   "source": [
    "# create list of feature\n",
    "\n",
    "list_feature = []\n",
    "for column in df.columns:\n",
    "        if column != \"Infection\":\n",
    "                list_feature.append(column)\n",
    "                df[column] = (df[column] - df[column].mean()) / df[column].std()\n",
    "df.head()\n",
    "\n"
   ],
   "metadata": {
    "collapsed": false
   }
  },
  {
   "cell_type": "code",
   "execution_count": 33,
   "outputs": [],
   "source": [
    "from sklearn.model_selection import train_test_split\n",
    "\n",
    "# split data to training and testing data with sprat label\n",
    "X = df.loc[:, list_feature]\n",
    "y = df.loc[:, ['Infection']]\n",
    "X_train, X_test, y_train, y_test = train_test_split(X, y, random_state=12, train_size = .75)"
   ],
   "metadata": {
    "collapsed": false
   }
  },
  {
   "cell_type": "code",
   "execution_count": 34,
   "outputs": [
    {
     "data": {
      "text/plain": "             36        37        38        39        40        41        42  \\\n48068 -0.143493 -0.061686 -0.800661  1.369552 -0.273492 -0.354402 -0.241290   \n15951  0.655297  1.935581  1.948211 -0.726376  1.916300 -0.660127  1.272566   \n19502 -0.792597 -1.376062 -0.546261 -1.095851 -0.738841  0.281746 -1.429878   \n25532 -0.793483 -1.233658 -0.559284 -0.479985 -0.731939  0.257078 -1.063581   \n63382  1.022614  1.082898  0.853435 -1.116026  0.142160 -0.532951  0.725818   \n\n             43        44        45  ...       119       120       121  \\\n48068  0.029183 -0.302705 -0.433900  ... -0.662701 -0.535909  0.637817   \n15951  1.593118  1.499993  1.431890  ... -0.720042 -0.550524 -0.449010   \n19502 -0.813179 -1.197228 -1.118519  ...  0.005876 -0.315760 -0.449010   \n25532 -0.599183 -1.153054 -1.120109  ... -0.714282 -0.552895  0.186743   \n63382  0.112367  1.211327  1.222941  ...  0.005877  3.273971 -0.449010   \n\n            122       123        124       125       126       127       128  \n48068  0.025831 -0.375764  17.945307 -0.538484  1.231874  1.458874 -0.273855  \n15951 -0.666796  1.883777  -0.090354 -0.538484 -0.804836 -0.752268  0.110235  \n19502 -0.666796  2.153177  -0.091359 -0.538483 -1.004905 -0.779358  2.913513  \n25532 -0.320483  1.445920  -0.082077 -0.538484 -0.323136 -0.651986 -0.160690  \n63382 -0.666796  2.163370  -0.091703 -0.538482 -1.023404 -0.779551  5.841373  \n\n[5 rows x 93 columns]",
      "text/html": "<div>\n<style scoped>\n    .dataframe tbody tr th:only-of-type {\n        vertical-align: middle;\n    }\n\n    .dataframe tbody tr th {\n        vertical-align: top;\n    }\n\n    .dataframe thead th {\n        text-align: right;\n    }\n</style>\n<table border=\"1\" class=\"dataframe\">\n  <thead>\n    <tr style=\"text-align: right;\">\n      <th></th>\n      <th>36</th>\n      <th>37</th>\n      <th>38</th>\n      <th>39</th>\n      <th>40</th>\n      <th>41</th>\n      <th>42</th>\n      <th>43</th>\n      <th>44</th>\n      <th>45</th>\n      <th>...</th>\n      <th>119</th>\n      <th>120</th>\n      <th>121</th>\n      <th>122</th>\n      <th>123</th>\n      <th>124</th>\n      <th>125</th>\n      <th>126</th>\n      <th>127</th>\n      <th>128</th>\n    </tr>\n  </thead>\n  <tbody>\n    <tr>\n      <th>48068</th>\n      <td>-0.143493</td>\n      <td>-0.061686</td>\n      <td>-0.800661</td>\n      <td>1.369552</td>\n      <td>-0.273492</td>\n      <td>-0.354402</td>\n      <td>-0.241290</td>\n      <td>0.029183</td>\n      <td>-0.302705</td>\n      <td>-0.433900</td>\n      <td>...</td>\n      <td>-0.662701</td>\n      <td>-0.535909</td>\n      <td>0.637817</td>\n      <td>0.025831</td>\n      <td>-0.375764</td>\n      <td>17.945307</td>\n      <td>-0.538484</td>\n      <td>1.231874</td>\n      <td>1.458874</td>\n      <td>-0.273855</td>\n    </tr>\n    <tr>\n      <th>15951</th>\n      <td>0.655297</td>\n      <td>1.935581</td>\n      <td>1.948211</td>\n      <td>-0.726376</td>\n      <td>1.916300</td>\n      <td>-0.660127</td>\n      <td>1.272566</td>\n      <td>1.593118</td>\n      <td>1.499993</td>\n      <td>1.431890</td>\n      <td>...</td>\n      <td>-0.720042</td>\n      <td>-0.550524</td>\n      <td>-0.449010</td>\n      <td>-0.666796</td>\n      <td>1.883777</td>\n      <td>-0.090354</td>\n      <td>-0.538484</td>\n      <td>-0.804836</td>\n      <td>-0.752268</td>\n      <td>0.110235</td>\n    </tr>\n    <tr>\n      <th>19502</th>\n      <td>-0.792597</td>\n      <td>-1.376062</td>\n      <td>-0.546261</td>\n      <td>-1.095851</td>\n      <td>-0.738841</td>\n      <td>0.281746</td>\n      <td>-1.429878</td>\n      <td>-0.813179</td>\n      <td>-1.197228</td>\n      <td>-1.118519</td>\n      <td>...</td>\n      <td>0.005876</td>\n      <td>-0.315760</td>\n      <td>-0.449010</td>\n      <td>-0.666796</td>\n      <td>2.153177</td>\n      <td>-0.091359</td>\n      <td>-0.538483</td>\n      <td>-1.004905</td>\n      <td>-0.779358</td>\n      <td>2.913513</td>\n    </tr>\n    <tr>\n      <th>25532</th>\n      <td>-0.793483</td>\n      <td>-1.233658</td>\n      <td>-0.559284</td>\n      <td>-0.479985</td>\n      <td>-0.731939</td>\n      <td>0.257078</td>\n      <td>-1.063581</td>\n      <td>-0.599183</td>\n      <td>-1.153054</td>\n      <td>-1.120109</td>\n      <td>...</td>\n      <td>-0.714282</td>\n      <td>-0.552895</td>\n      <td>0.186743</td>\n      <td>-0.320483</td>\n      <td>1.445920</td>\n      <td>-0.082077</td>\n      <td>-0.538484</td>\n      <td>-0.323136</td>\n      <td>-0.651986</td>\n      <td>-0.160690</td>\n    </tr>\n    <tr>\n      <th>63382</th>\n      <td>1.022614</td>\n      <td>1.082898</td>\n      <td>0.853435</td>\n      <td>-1.116026</td>\n      <td>0.142160</td>\n      <td>-0.532951</td>\n      <td>0.725818</td>\n      <td>0.112367</td>\n      <td>1.211327</td>\n      <td>1.222941</td>\n      <td>...</td>\n      <td>0.005877</td>\n      <td>3.273971</td>\n      <td>-0.449010</td>\n      <td>-0.666796</td>\n      <td>2.163370</td>\n      <td>-0.091703</td>\n      <td>-0.538482</td>\n      <td>-1.023404</td>\n      <td>-0.779551</td>\n      <td>5.841373</td>\n    </tr>\n  </tbody>\n</table>\n<p>5 rows × 93 columns</p>\n</div>"
     },
     "execution_count": 34,
     "metadata": {},
     "output_type": "execute_result"
    }
   ],
   "source": [
    "X_train.head()\n"
   ],
   "metadata": {
    "collapsed": false
   }
  },
  {
   "cell_type": "code",
   "execution_count": 35,
   "outputs": [
    {
     "data": {
      "text/plain": "             36        37        38        39        40        41        42  \\\n52198 -0.200316 -0.344380 -0.863683  1.182984 -0.357506 -0.400824 -0.576289   \n1460  -1.699149 -1.432460  0.244336 -0.442704 -0.000991  0.212943  0.127337   \n25073 -0.789222 -1.343853 -0.564704 -0.870517 -0.735163  1.002909 -0.925826   \n6148  -0.051375  0.664567 -0.442205  1.508292 -0.053374 -0.305334  1.025439   \n1749  -0.200364 -0.990946 -0.896108 -0.140935 -0.835215  2.006491 -0.423560   \n\n             43        44        45  ...       119       120       121  \\\n52198 -0.214877 -0.440963 -0.538859  ... -0.720785 -0.554501  0.186743   \n1460   0.181128 -1.649307 -1.598680  ...  2.809502  0.607418  0.273184   \n25073 -0.753785 -1.167539 -1.095037  ... -0.710848 -0.551763 -0.449010   \n6148   0.882703 -0.040493 -0.367450  ... -0.200544 -0.383731  0.894228   \n1749  -0.801624 -0.600147 -0.557623  ... -0.720571 -0.554964 -0.449010   \n\n            122       123       124       125       126       127       128  \n52198 -0.320483 -0.321904  0.034154 -0.538484  0.784023  0.827277 -0.259689  \n1460   1.064772  0.279303 -0.084627 -0.538484 -0.517134 -0.668931 -0.120722  \n25073 -0.666796  2.002129 -0.088802 -0.538484 -0.799798 -0.765770  0.184341  \n6148   1.064772 -0.531456  0.052423 -0.538484  1.231107  1.657603 -0.274456  \n1749  -0.666796  1.289899 -0.082375 -0.538484 -0.416705 -0.565326 -0.158592  \n\n[5 rows x 93 columns]",
      "text/html": "<div>\n<style scoped>\n    .dataframe tbody tr th:only-of-type {\n        vertical-align: middle;\n    }\n\n    .dataframe tbody tr th {\n        vertical-align: top;\n    }\n\n    .dataframe thead th {\n        text-align: right;\n    }\n</style>\n<table border=\"1\" class=\"dataframe\">\n  <thead>\n    <tr style=\"text-align: right;\">\n      <th></th>\n      <th>36</th>\n      <th>37</th>\n      <th>38</th>\n      <th>39</th>\n      <th>40</th>\n      <th>41</th>\n      <th>42</th>\n      <th>43</th>\n      <th>44</th>\n      <th>45</th>\n      <th>...</th>\n      <th>119</th>\n      <th>120</th>\n      <th>121</th>\n      <th>122</th>\n      <th>123</th>\n      <th>124</th>\n      <th>125</th>\n      <th>126</th>\n      <th>127</th>\n      <th>128</th>\n    </tr>\n  </thead>\n  <tbody>\n    <tr>\n      <th>52198</th>\n      <td>-0.200316</td>\n      <td>-0.344380</td>\n      <td>-0.863683</td>\n      <td>1.182984</td>\n      <td>-0.357506</td>\n      <td>-0.400824</td>\n      <td>-0.576289</td>\n      <td>-0.214877</td>\n      <td>-0.440963</td>\n      <td>-0.538859</td>\n      <td>...</td>\n      <td>-0.720785</td>\n      <td>-0.554501</td>\n      <td>0.186743</td>\n      <td>-0.320483</td>\n      <td>-0.321904</td>\n      <td>0.034154</td>\n      <td>-0.538484</td>\n      <td>0.784023</td>\n      <td>0.827277</td>\n      <td>-0.259689</td>\n    </tr>\n    <tr>\n      <th>1460</th>\n      <td>-1.699149</td>\n      <td>-1.432460</td>\n      <td>0.244336</td>\n      <td>-0.442704</td>\n      <td>-0.000991</td>\n      <td>0.212943</td>\n      <td>0.127337</td>\n      <td>0.181128</td>\n      <td>-1.649307</td>\n      <td>-1.598680</td>\n      <td>...</td>\n      <td>2.809502</td>\n      <td>0.607418</td>\n      <td>0.273184</td>\n      <td>1.064772</td>\n      <td>0.279303</td>\n      <td>-0.084627</td>\n      <td>-0.538484</td>\n      <td>-0.517134</td>\n      <td>-0.668931</td>\n      <td>-0.120722</td>\n    </tr>\n    <tr>\n      <th>25073</th>\n      <td>-0.789222</td>\n      <td>-1.343853</td>\n      <td>-0.564704</td>\n      <td>-0.870517</td>\n      <td>-0.735163</td>\n      <td>1.002909</td>\n      <td>-0.925826</td>\n      <td>-0.753785</td>\n      <td>-1.167539</td>\n      <td>-1.095037</td>\n      <td>...</td>\n      <td>-0.710848</td>\n      <td>-0.551763</td>\n      <td>-0.449010</td>\n      <td>-0.666796</td>\n      <td>2.002129</td>\n      <td>-0.088802</td>\n      <td>-0.538484</td>\n      <td>-0.799798</td>\n      <td>-0.765770</td>\n      <td>0.184341</td>\n    </tr>\n    <tr>\n      <th>6148</th>\n      <td>-0.051375</td>\n      <td>0.664567</td>\n      <td>-0.442205</td>\n      <td>1.508292</td>\n      <td>-0.053374</td>\n      <td>-0.305334</td>\n      <td>1.025439</td>\n      <td>0.882703</td>\n      <td>-0.040493</td>\n      <td>-0.367450</td>\n      <td>...</td>\n      <td>-0.200544</td>\n      <td>-0.383731</td>\n      <td>0.894228</td>\n      <td>1.064772</td>\n      <td>-0.531456</td>\n      <td>0.052423</td>\n      <td>-0.538484</td>\n      <td>1.231107</td>\n      <td>1.657603</td>\n      <td>-0.274456</td>\n    </tr>\n    <tr>\n      <th>1749</th>\n      <td>-0.200364</td>\n      <td>-0.990946</td>\n      <td>-0.896108</td>\n      <td>-0.140935</td>\n      <td>-0.835215</td>\n      <td>2.006491</td>\n      <td>-0.423560</td>\n      <td>-0.801624</td>\n      <td>-0.600147</td>\n      <td>-0.557623</td>\n      <td>...</td>\n      <td>-0.720571</td>\n      <td>-0.554964</td>\n      <td>-0.449010</td>\n      <td>-0.666796</td>\n      <td>1.289899</td>\n      <td>-0.082375</td>\n      <td>-0.538484</td>\n      <td>-0.416705</td>\n      <td>-0.565326</td>\n      <td>-0.158592</td>\n    </tr>\n  </tbody>\n</table>\n<p>5 rows × 93 columns</p>\n</div>"
     },
     "execution_count": 35,
     "metadata": {},
     "output_type": "execute_result"
    }
   ],
   "source": [
    "X_test.head()\n"
   ],
   "metadata": {
    "collapsed": false
   }
  },
  {
   "cell_type": "code",
   "execution_count": 36,
   "outputs": [
    {
     "data": {
      "text/plain": "       Infection\n52198          0\n1460           0\n25073          0\n6148           0\n1749           0\n...          ...\n7087           0\n13626          0\n51018          1\n18162          0\n13719          0\n\n[20000 rows x 1 columns]",
      "text/html": "<div>\n<style scoped>\n    .dataframe tbody tr th:only-of-type {\n        vertical-align: middle;\n    }\n\n    .dataframe tbody tr th {\n        vertical-align: top;\n    }\n\n    .dataframe thead th {\n        text-align: right;\n    }\n</style>\n<table border=\"1\" class=\"dataframe\">\n  <thead>\n    <tr style=\"text-align: right;\">\n      <th></th>\n      <th>Infection</th>\n    </tr>\n  </thead>\n  <tbody>\n    <tr>\n      <th>52198</th>\n      <td>0</td>\n    </tr>\n    <tr>\n      <th>1460</th>\n      <td>0</td>\n    </tr>\n    <tr>\n      <th>25073</th>\n      <td>0</td>\n    </tr>\n    <tr>\n      <th>6148</th>\n      <td>0</td>\n    </tr>\n    <tr>\n      <th>1749</th>\n      <td>0</td>\n    </tr>\n    <tr>\n      <th>...</th>\n      <td>...</td>\n    </tr>\n    <tr>\n      <th>7087</th>\n      <td>0</td>\n    </tr>\n    <tr>\n      <th>13626</th>\n      <td>0</td>\n    </tr>\n    <tr>\n      <th>51018</th>\n      <td>1</td>\n    </tr>\n    <tr>\n      <th>18162</th>\n      <td>0</td>\n    </tr>\n    <tr>\n      <th>13719</th>\n      <td>0</td>\n    </tr>\n  </tbody>\n</table>\n<p>20000 rows × 1 columns</p>\n</div>"
     },
     "execution_count": 36,
     "metadata": {},
     "output_type": "execute_result"
    }
   ],
   "source": [
    "y_test\n"
   ],
   "metadata": {
    "collapsed": false
   }
  },
  {
   "cell_type": "code",
   "execution_count": 37,
   "outputs": [
    {
     "data": {
      "text/plain": "       Infection\n48068          0\n15951          0\n19502          0\n25532          0\n63382          0\n...          ...\n75011          0\n36482          0\n40177          1\n19709          0\n79691          0\n\n[60000 rows x 1 columns]",
      "text/html": "<div>\n<style scoped>\n    .dataframe tbody tr th:only-of-type {\n        vertical-align: middle;\n    }\n\n    .dataframe tbody tr th {\n        vertical-align: top;\n    }\n\n    .dataframe thead th {\n        text-align: right;\n    }\n</style>\n<table border=\"1\" class=\"dataframe\">\n  <thead>\n    <tr style=\"text-align: right;\">\n      <th></th>\n      <th>Infection</th>\n    </tr>\n  </thead>\n  <tbody>\n    <tr>\n      <th>48068</th>\n      <td>0</td>\n    </tr>\n    <tr>\n      <th>15951</th>\n      <td>0</td>\n    </tr>\n    <tr>\n      <th>19502</th>\n      <td>0</td>\n    </tr>\n    <tr>\n      <th>25532</th>\n      <td>0</td>\n    </tr>\n    <tr>\n      <th>63382</th>\n      <td>0</td>\n    </tr>\n    <tr>\n      <th>...</th>\n      <td>...</td>\n    </tr>\n    <tr>\n      <th>75011</th>\n      <td>0</td>\n    </tr>\n    <tr>\n      <th>36482</th>\n      <td>0</td>\n    </tr>\n    <tr>\n      <th>40177</th>\n      <td>1</td>\n    </tr>\n    <tr>\n      <th>19709</th>\n      <td>0</td>\n    </tr>\n    <tr>\n      <th>79691</th>\n      <td>0</td>\n    </tr>\n  </tbody>\n</table>\n<p>60000 rows × 1 columns</p>\n</div>"
     },
     "execution_count": 37,
     "metadata": {},
     "output_type": "execute_result"
    }
   ],
   "source": [
    "y_train\n"
   ],
   "metadata": {
    "collapsed": false
   }
  },
  {
   "cell_type": "code",
   "execution_count": 38,
   "outputs": [],
   "source": [
    "from sklearn.ensemble import AdaBoostClassifier\n"
   ],
   "metadata": {
    "collapsed": false
   }
  },
  {
   "cell_type": "code",
   "execution_count": 39,
   "outputs": [
    {
     "data": {
      "text/plain": "AdaBoostClassifier(n_estimators=2000, random_state=1)",
      "text/html": "<style>#sk-container-id-3 {color: black;background-color: white;}#sk-container-id-3 pre{padding: 0;}#sk-container-id-3 div.sk-toggleable {background-color: white;}#sk-container-id-3 label.sk-toggleable__label {cursor: pointer;display: block;width: 100%;margin-bottom: 0;padding: 0.3em;box-sizing: border-box;text-align: center;}#sk-container-id-3 label.sk-toggleable__label-arrow:before {content: \"▸\";float: left;margin-right: 0.25em;color: #696969;}#sk-container-id-3 label.sk-toggleable__label-arrow:hover:before {color: black;}#sk-container-id-3 div.sk-estimator:hover label.sk-toggleable__label-arrow:before {color: black;}#sk-container-id-3 div.sk-toggleable__content {max-height: 0;max-width: 0;overflow: hidden;text-align: left;background-color: #f0f8ff;}#sk-container-id-3 div.sk-toggleable__content pre {margin: 0.2em;color: black;border-radius: 0.25em;background-color: #f0f8ff;}#sk-container-id-3 input.sk-toggleable__control:checked~div.sk-toggleable__content {max-height: 200px;max-width: 100%;overflow: auto;}#sk-container-id-3 input.sk-toggleable__control:checked~label.sk-toggleable__label-arrow:before {content: \"▾\";}#sk-container-id-3 div.sk-estimator input.sk-toggleable__control:checked~label.sk-toggleable__label {background-color: #d4ebff;}#sk-container-id-3 div.sk-label input.sk-toggleable__control:checked~label.sk-toggleable__label {background-color: #d4ebff;}#sk-container-id-3 input.sk-hidden--visually {border: 0;clip: rect(1px 1px 1px 1px);clip: rect(1px, 1px, 1px, 1px);height: 1px;margin: -1px;overflow: hidden;padding: 0;position: absolute;width: 1px;}#sk-container-id-3 div.sk-estimator {font-family: monospace;background-color: #f0f8ff;border: 1px dotted black;border-radius: 0.25em;box-sizing: border-box;margin-bottom: 0.5em;}#sk-container-id-3 div.sk-estimator:hover {background-color: #d4ebff;}#sk-container-id-3 div.sk-parallel-item::after {content: \"\";width: 100%;border-bottom: 1px solid gray;flex-grow: 1;}#sk-container-id-3 div.sk-label:hover label.sk-toggleable__label {background-color: #d4ebff;}#sk-container-id-3 div.sk-serial::before {content: \"\";position: absolute;border-left: 1px solid gray;box-sizing: border-box;top: 0;bottom: 0;left: 50%;z-index: 0;}#sk-container-id-3 div.sk-serial {display: flex;flex-direction: column;align-items: center;background-color: white;padding-right: 0.2em;padding-left: 0.2em;position: relative;}#sk-container-id-3 div.sk-item {position: relative;z-index: 1;}#sk-container-id-3 div.sk-parallel {display: flex;align-items: stretch;justify-content: center;background-color: white;position: relative;}#sk-container-id-3 div.sk-item::before, #sk-container-id-3 div.sk-parallel-item::before {content: \"\";position: absolute;border-left: 1px solid gray;box-sizing: border-box;top: 0;bottom: 0;left: 50%;z-index: -1;}#sk-container-id-3 div.sk-parallel-item {display: flex;flex-direction: column;z-index: 1;position: relative;background-color: white;}#sk-container-id-3 div.sk-parallel-item:first-child::after {align-self: flex-end;width: 50%;}#sk-container-id-3 div.sk-parallel-item:last-child::after {align-self: flex-start;width: 50%;}#sk-container-id-3 div.sk-parallel-item:only-child::after {width: 0;}#sk-container-id-3 div.sk-dashed-wrapped {border: 1px dashed gray;margin: 0 0.4em 0.5em 0.4em;box-sizing: border-box;padding-bottom: 0.4em;background-color: white;}#sk-container-id-3 div.sk-label label {font-family: monospace;font-weight: bold;display: inline-block;line-height: 1.2em;}#sk-container-id-3 div.sk-label-container {text-align: center;}#sk-container-id-3 div.sk-container {/* jupyter's `normalize.less` sets `[hidden] { display: none; }` but bootstrap.min.css set `[hidden] { display: none !important; }` so we also need the `!important` here to be able to override the default hidden behavior on the sphinx rendered scikit-learn.org. See: https://github.com/scikit-learn/scikit-learn/issues/21755 */display: inline-block !important;position: relative;}#sk-container-id-3 div.sk-text-repr-fallback {display: none;}</style><div id=\"sk-container-id-3\" class=\"sk-top-container\"><div class=\"sk-text-repr-fallback\"><pre>AdaBoostClassifier(n_estimators=2000, random_state=1)</pre><b>In a Jupyter environment, please rerun this cell to show the HTML representation or trust the notebook. <br />On GitHub, the HTML representation is unable to render, please try loading this page with nbviewer.org.</b></div><div class=\"sk-container\" hidden><div class=\"sk-item\"><div class=\"sk-estimator sk-toggleable\"><input class=\"sk-toggleable__control sk-hidden--visually\" id=\"sk-estimator-id-3\" type=\"checkbox\" checked><label for=\"sk-estimator-id-3\" class=\"sk-toggleable__label sk-toggleable__label-arrow\">AdaBoostClassifier</label><div class=\"sk-toggleable__content\"><pre>AdaBoostClassifier(n_estimators=2000, random_state=1)</pre></div></div></div></div></div>"
     },
     "execution_count": 39,
     "metadata": {},
     "output_type": "execute_result"
    }
   ],
   "source": [
    "import numpy as np\n",
    "# creat adboost classifier with 2000 trees and fit it with training samlpe\n",
    "clf = AdaBoostClassifier(n_estimators=2000, random_state=1)\n",
    "x_t = np.array(X_train.values.tolist())\n",
    "y_t = np.array(y_train.values.tolist()).reshape(len(y_train))\n",
    "clf.fit(x_t, y_t)\n",
    "\n"
   ],
   "metadata": {
    "collapsed": false
   }
  },
  {
   "cell_type": "code",
   "execution_count": 40,
   "outputs": [],
   "source": [
    "x_te = np.array(X_test.values.tolist())\n",
    "y_te = np.array(y_test.values.tolist()).reshape(len(y_test))"
   ],
   "metadata": {
    "collapsed": false
   }
  },
  {
   "cell_type": "code",
   "execution_count": 41,
   "outputs": [
    {
     "name": "stdout",
     "output_type": "stream",
     "text": [
      "Accuracy: 0.78055\n"
     ]
    }
   ],
   "source": [
    "from sklearn import metrics\n",
    "\n",
    "y_pred = clf.predict(x_te)\n",
    "print(\"Accuracy:\",metrics.accuracy_score(y_te, y_pred))\n"
   ],
   "metadata": {
    "collapsed": false
   }
  },
  {
   "cell_type": "code",
   "execution_count": 42,
   "outputs": [
    {
     "name": "stdout",
     "output_type": "stream",
     "text": [
      "F1: 0.6433736897700497\n"
     ]
    }
   ],
   "source": [
    "print(\"F1:\",metrics.f1_score(y_te, y_pred))\n"
   ],
   "metadata": {
    "collapsed": false
   }
  },
  {
   "cell_type": "code",
   "execution_count": 43,
   "outputs": [
    {
     "name": "stdout",
     "output_type": "stream",
     "text": [
      "Recall: 0.5962349397590362\n"
     ]
    }
   ],
   "source": [
    "print(\"Recall:\",metrics.recall_score(y_te, y_pred))\n"
   ],
   "metadata": {
    "collapsed": false
   }
  },
  {
   "cell_type": "code",
   "execution_count": 44,
   "outputs": [
    {
     "name": "stdout",
     "output_type": "stream",
     "text": [
      "Precision 0.698605964355038\n"
     ]
    }
   ],
   "source": [
    "print(\"Precision\",metrics.precision_score(y_te,y_pred))"
   ],
   "metadata": {
    "collapsed": false
   }
  },
  {
   "cell_type": "code",
   "execution_count": 45,
   "outputs": [
    {
     "name": "stdout",
     "output_type": "stream",
     "text": [
      "Roc_Auc: 0.7341953141908953\n"
     ]
    }
   ],
   "source": [
    "print(\"Roc_Auc:\",metrics.roc_auc_score(y_te, y_pred))\n"
   ],
   "metadata": {
    "collapsed": false
   }
  },
  {
   "cell_type": "code",
   "execution_count": 46,
   "outputs": [
    {
     "data": {
      "text/plain": "DecisionTreeClassifier()",
      "text/html": "<style>#sk-container-id-4 {color: black;background-color: white;}#sk-container-id-4 pre{padding: 0;}#sk-container-id-4 div.sk-toggleable {background-color: white;}#sk-container-id-4 label.sk-toggleable__label {cursor: pointer;display: block;width: 100%;margin-bottom: 0;padding: 0.3em;box-sizing: border-box;text-align: center;}#sk-container-id-4 label.sk-toggleable__label-arrow:before {content: \"▸\";float: left;margin-right: 0.25em;color: #696969;}#sk-container-id-4 label.sk-toggleable__label-arrow:hover:before {color: black;}#sk-container-id-4 div.sk-estimator:hover label.sk-toggleable__label-arrow:before {color: black;}#sk-container-id-4 div.sk-toggleable__content {max-height: 0;max-width: 0;overflow: hidden;text-align: left;background-color: #f0f8ff;}#sk-container-id-4 div.sk-toggleable__content pre {margin: 0.2em;color: black;border-radius: 0.25em;background-color: #f0f8ff;}#sk-container-id-4 input.sk-toggleable__control:checked~div.sk-toggleable__content {max-height: 200px;max-width: 100%;overflow: auto;}#sk-container-id-4 input.sk-toggleable__control:checked~label.sk-toggleable__label-arrow:before {content: \"▾\";}#sk-container-id-4 div.sk-estimator input.sk-toggleable__control:checked~label.sk-toggleable__label {background-color: #d4ebff;}#sk-container-id-4 div.sk-label input.sk-toggleable__control:checked~label.sk-toggleable__label {background-color: #d4ebff;}#sk-container-id-4 input.sk-hidden--visually {border: 0;clip: rect(1px 1px 1px 1px);clip: rect(1px, 1px, 1px, 1px);height: 1px;margin: -1px;overflow: hidden;padding: 0;position: absolute;width: 1px;}#sk-container-id-4 div.sk-estimator {font-family: monospace;background-color: #f0f8ff;border: 1px dotted black;border-radius: 0.25em;box-sizing: border-box;margin-bottom: 0.5em;}#sk-container-id-4 div.sk-estimator:hover {background-color: #d4ebff;}#sk-container-id-4 div.sk-parallel-item::after {content: \"\";width: 100%;border-bottom: 1px solid gray;flex-grow: 1;}#sk-container-id-4 div.sk-label:hover label.sk-toggleable__label {background-color: #d4ebff;}#sk-container-id-4 div.sk-serial::before {content: \"\";position: absolute;border-left: 1px solid gray;box-sizing: border-box;top: 0;bottom: 0;left: 50%;z-index: 0;}#sk-container-id-4 div.sk-serial {display: flex;flex-direction: column;align-items: center;background-color: white;padding-right: 0.2em;padding-left: 0.2em;position: relative;}#sk-container-id-4 div.sk-item {position: relative;z-index: 1;}#sk-container-id-4 div.sk-parallel {display: flex;align-items: stretch;justify-content: center;background-color: white;position: relative;}#sk-container-id-4 div.sk-item::before, #sk-container-id-4 div.sk-parallel-item::before {content: \"\";position: absolute;border-left: 1px solid gray;box-sizing: border-box;top: 0;bottom: 0;left: 50%;z-index: -1;}#sk-container-id-4 div.sk-parallel-item {display: flex;flex-direction: column;z-index: 1;position: relative;background-color: white;}#sk-container-id-4 div.sk-parallel-item:first-child::after {align-self: flex-end;width: 50%;}#sk-container-id-4 div.sk-parallel-item:last-child::after {align-self: flex-start;width: 50%;}#sk-container-id-4 div.sk-parallel-item:only-child::after {width: 0;}#sk-container-id-4 div.sk-dashed-wrapped {border: 1px dashed gray;margin: 0 0.4em 0.5em 0.4em;box-sizing: border-box;padding-bottom: 0.4em;background-color: white;}#sk-container-id-4 div.sk-label label {font-family: monospace;font-weight: bold;display: inline-block;line-height: 1.2em;}#sk-container-id-4 div.sk-label-container {text-align: center;}#sk-container-id-4 div.sk-container {/* jupyter's `normalize.less` sets `[hidden] { display: none; }` but bootstrap.min.css set `[hidden] { display: none !important; }` so we also need the `!important` here to be able to override the default hidden behavior on the sphinx rendered scikit-learn.org. See: https://github.com/scikit-learn/scikit-learn/issues/21755 */display: inline-block !important;position: relative;}#sk-container-id-4 div.sk-text-repr-fallback {display: none;}</style><div id=\"sk-container-id-4\" class=\"sk-top-container\"><div class=\"sk-text-repr-fallback\"><pre>DecisionTreeClassifier()</pre><b>In a Jupyter environment, please rerun this cell to show the HTML representation or trust the notebook. <br />On GitHub, the HTML representation is unable to render, please try loading this page with nbviewer.org.</b></div><div class=\"sk-container\" hidden><div class=\"sk-item\"><div class=\"sk-estimator sk-toggleable\"><input class=\"sk-toggleable__control sk-hidden--visually\" id=\"sk-estimator-id-4\" type=\"checkbox\" checked><label for=\"sk-estimator-id-4\" class=\"sk-toggleable__label sk-toggleable__label-arrow\">DecisionTreeClassifier</label><div class=\"sk-toggleable__content\"><pre>DecisionTreeClassifier()</pre></div></div></div></div></div>"
     },
     "execution_count": 46,
     "metadata": {},
     "output_type": "execute_result"
    }
   ],
   "source": [
    "from sklearn import tree\n",
    "# make Decision tree with our item in training set\n",
    "tree = tree.DecisionTreeClassifier()\n",
    "tree.fit(x_t,y_t)\n"
   ],
   "metadata": {
    "collapsed": false
   }
  },
  {
   "cell_type": "code",
   "execution_count": 47,
   "outputs": [],
   "source": [
    "tree_y_pred = tree.predict(x_te)\n"
   ],
   "metadata": {
    "collapsed": false
   }
  },
  {
   "cell_type": "code",
   "execution_count": 48,
   "outputs": [
    {
     "name": "stdout",
     "output_type": "stream",
     "text": [
      "Accuracy: 0.73665\n"
     ]
    }
   ],
   "source": [
    "print(\"Accuracy:\",metrics.accuracy_score(y_te, tree_y_pred))\n"
   ],
   "metadata": {
    "collapsed": false
   }
  },
  {
   "cell_type": "code",
   "execution_count": 49,
   "outputs": [
    {
     "name": "stdout",
     "output_type": "stream",
     "text": [
      "F1: 0.6113201977713822\n"
     ]
    }
   ],
   "source": [
    "print(\"F1:\",metrics.f1_score(y_te, tree_y_pred))\n"
   ],
   "metadata": {
    "collapsed": false
   }
  },
  {
   "cell_type": "code",
   "execution_count": 50,
   "outputs": [
    {
     "name": "stdout",
     "output_type": "stream",
     "text": [
      "Recall: 0.6237951807228915\n"
     ]
    }
   ],
   "source": [
    "print(\"Recall:\",metrics.recall_score(y_te, tree_y_pred))\n"
   ],
   "metadata": {
    "collapsed": false
   }
  },
  {
   "cell_type": "code",
   "execution_count": 51,
   "outputs": [
    {
     "name": "stdout",
     "output_type": "stream",
     "text": [
      "Precision 0.5993343944436406\n"
     ]
    }
   ],
   "source": [
    "print(\"Precision\",metrics.precision_score(y_te,tree_y_pred))\n"
   ],
   "metadata": {
    "collapsed": false
   }
  },
  {
   "cell_type": "code",
   "execution_count": 52,
   "outputs": [
    {
     "name": "stdout",
     "output_type": "stream",
     "text": [
      "Roc_Auc: 0.7082673508404878\n"
     ]
    }
   ],
   "source": [
    "print(\"Roc_Auc:\",metrics.roc_auc_score(y_te, tree_y_pred))\n"
   ],
   "metadata": {
    "collapsed": false
   }
  },
  {
   "cell_type": "code",
   "execution_count": 52,
   "outputs": [],
   "source": [],
   "metadata": {
    "collapsed": false
   }
  }
 ],
 "metadata": {
  "kernelspec": {
   "display_name": "Python 3",
   "language": "python",
   "name": "python3"
  },
  "language_info": {
   "codemirror_mode": {
    "name": "ipython",
    "version": 2
   },
   "file_extension": ".py",
   "mimetype": "text/x-python",
   "name": "python",
   "nbconvert_exporter": "python",
   "pygments_lexer": "ipython2",
   "version": "2.7.6"
  }
 },
 "nbformat": 4,
 "nbformat_minor": 0
}
